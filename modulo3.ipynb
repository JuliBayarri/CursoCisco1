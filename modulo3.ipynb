{
 "cells": [
  {
   "cell_type": "markdown",
   "metadata": {},
   "source": [
    "## **OPERADORES**\n",
    "\n",
    "**IGUALDAD:** el operador igual a (==)\n",
    "Este operador compara los valores de dos operandos y responde a la pregunta \"¿son iguales? o ¿valen lo mismo?\", se pueden comparar valores numéricos, variables con algun valor asignado, valors no numéricos, etc. Tambien se puede utilizar como condicional, es decir establacer una condicion.\n",
    "\n",
    "**DESIGUALDAD:** el operador no igual a (!=)\n",
    "Este operador tambein compara valores, la diferencia es que si son iguales el resultado de la pregunta será ``False``, y si no son iguales el resultado de la comparacion será ``True``."
   ]
  },
  {
   "cell_type": "code",
   "execution_count": 3,
   "metadata": {},
   "outputs": [
    {
     "data": {
      "text/plain": [
       "False"
      ]
     },
     "execution_count": 3,
     "metadata": {},
     "output_type": "execute_result"
    }
   ],
   "source": [
    "var1 = 0\n",
    "var1 != 0"
   ]
  },
  {
   "cell_type": "markdown",
   "metadata": {},
   "source": [
    "**OPERADORES DE COMPARACION: MAYOR, MENOR, MAYOR O IGUAL QUE**\n",
    "Al igual que la igualdad, se puede preguntar si un valor de igual o menor a otro, utilizando los operaodres ``> <``. La respuesta tambien será ``True`` o ``False`` segun corresponda. \n",
    "El operador *mayor que* tiene otra variante especial que es *mayor o gual que* y se denota como ``>=``.\n",
    "Al igual que los operadores de igualdad y desigualdad, son operadores binarios que tienen un enlazado izquierdo y otro derecho.\n",
    "Tambien pueden marcar una condicion, por ejemplo si la temperatura afuera es muy baja debería ponerme un gorro de lana, para expresar ésta condicion podemos usar entonces ``temp_afuera >= 0``."
   ]
  },
  {
   "cell_type": "code",
   "execution_count": 4,
   "metadata": {},
   "outputs": [
    {
     "name": "stdout",
     "output_type": "stream",
     "text": [
      "no hace falta gorro\n"
     ]
    }
   ],
   "source": [
    "temp_afuera = 10\n",
    "if temp_afuera >= 10:\n",
    "    print(\"no hace falta gorro\")"
   ]
  },
  {
   "cell_type": "markdown",
   "metadata": {},
   "source": [
    "**USO DE RESPUESTAS**\n",
    "\n",
    "Se pueden utilizar las respuestas (``True`` y ``False``) de éstos operadores para de distintas maneras, una es almacenandolas en una variable. Otra forma, es como mostramos antes, es para poder tomar una decision, en el codigo anterior la decision que se debía tomar era si usar o no un gorro, a éste tipo de condiciones las veremos enseguida. "
   ]
  },
  {
   "cell_type": "code",
   "execution_count": 5,
   "metadata": {},
   "outputs": [
    {
     "name": "stdout",
     "output_type": "stream",
     "text": [
      "True\n"
     ]
    }
   ],
   "source": [
    "n = int(input(\"Ingresa un número: \"))\n",
    "print(n >= 100)"
   ]
  },
  {
   "cell_type": "markdown",
   "metadata": {},
   "source": [
    "## **CONDICIONES Y EJECUCION CONDICIONAL**\n",
    "En programacion es pocible establacer condiciones, es decir que una accion se cumpla solo si se cumple una determinada condicion, para esto se usan los operadores que venimos viemdo.\n",
    "Para establacer una condicion usamos una **palabra clave reservada** ques es ``if``, seguida de un espacio y una **expresion** cuyo valor se interpreta únicamente en terminos de True o False, finalmente dos puntos y en la linea de abajo, luego de sangría, se especifica la accion.\n",
    "Se pueden mandar tantas acciones como sea necesario pero todas se cumplicar solo cuando se cumpla la condicion y deben estar antecedidas de sangría.\n",
    "\n",
    "Ahora bien, podemos establacer que se siga otra accion si **No se cumple la condicion**, por ejemplo si la comida esta lista, ponemos la mesa, sino seguimos viendo TV. La condicion es que la comida este lista, y si esta se cumple hay que poner la mesa, sino podemos seguir viendo TV.\n",
    "Para plantear una situacion como ésta debemos usar ``if``, tal cual como describimos anteriormente, y luego utilizar ``else``. ``Else`` tambien es una palabra clave reservada y la sintaxis que utiliza es igual a ``if``."
   ]
  },
  {
   "cell_type": "code",
   "execution_count": 8,
   "metadata": {},
   "outputs": [
    {
     "name": "stdout",
     "output_type": "stream",
     "text": [
      "Busca un gorro de lana\n"
     ]
    }
   ],
   "source": [
    "temp_afuera = 7\n",
    "if temp_afuera >= 10:\n",
    "        print(\"No hace falta usar gorro\")\n",
    "else:\n",
    "    print(\"Busca un gorro de lana\")"
   ]
  },
  {
   "cell_type": "markdown",
   "metadata": {},
   "source": [
    "**SENTENCIAS ``IF-ELSE`` ANIDADAS**\n",
    "\n",
    "Una condicion puede llevar a otra condicion, por ejemplo en el ejemplo anterior, si la temperatura afuera es mayor o gual a 10°C no hace falta un gorro, pero si hay viento deberíamos usar una bufanda, sino hay viento, no hace falta ni gorro ni bufanda, y si la temperatura es menor a 10°C entonces sí hace falta un gorro, y si hay viento de nuevo necesitamos una bufanda.\n",
    "Al tener dos condiciones podemos entonces generar sentencias ``if-else`` anidadas."
   ]
  },
  {
   "cell_type": "code",
   "execution_count": 11,
   "metadata": {},
   "outputs": [
    {
     "name": "stdout",
     "output_type": "stream",
     "text": [
      "No hace falta gorro pero sí bufanda\n"
     ]
    }
   ],
   "source": [
    "temp_afuera = 11\n",
    "viento = 31\n",
    "if temp_afuera >= 10:\n",
    "    if viento >= 30:\n",
    "        print(\"No hace falta gorro pero sí bufanda\")\n",
    "    else:\n",
    "        print(\"No hace falta gorro pero sí bufanda\")\n",
    "else:\n",
    "    if viento >= 30:\n",
    "        print(\"Hay que usar gorro y bufanda\")\n",
    "    else:\n",
    "        print(\"Hay que usar gorro pero no hace falta bufanda\")"
   ]
  },
  {
   "cell_type": "markdown",
   "metadata": {},
   "source": [
    "Vemos que no hace tanto frio porque la temperatura es mayor a 10°C pero el viento es mayor a 30k/h por lo que sí es necesario usar bufanda. Cambiando los valores de entrada se pueden obtener distintas respuestas.\n",
    "\n",
    "**SENTENCIA ``ELIF``**\n",
    "Otra caso especial para expresar condicionales es la sentencia ``elif``, ésta tambien es una palabra clave reservada de python y es una mezcla entre if y else. Vimos recien que se pueden anidar condiciones, pero solo podíamos plantar dos condiciones, con éste nuevo operador podemos anidar más de dos condciciones y detenerno recien cuando se cumple la condicion verdadera.\n",
    "La sintaxis es similar a las anteriores:"
   ]
  },
  {
   "cell_type": "code",
   "execution_count": 14,
   "metadata": {},
   "outputs": [
    {
     "name": "stdout",
     "output_type": "stream",
     "text": [
      "No hace falta gorro ni bufanda pero sí paragüas\n"
     ]
    }
   ],
   "source": [
    "temp_afuera = 11\n",
    "viento = 29\n",
    "lluvia = \"si\"\n",
    "if temp_afuera >= 10:\n",
    "    if viento >= 30:\n",
    "        print(\"No hace falta gorro pero sí bufanda\")\n",
    "    elif lluvia == \"si\" and temp_afuera >= 10 and viento < 30:\n",
    "        print(\"No hace falta gorro ni bufanda pero sí paragüas\")\n",
    "    else:\n",
    "        print(\"No hace falta gorro pero sí bufanda\")\n",
    "else:\n",
    "    if viento >= 30:\n",
    "        print(\"Hay que usar gorro y bufanda\")\n",
    "    elif lluvia == \"si\":\n",
    "        print(\"Hay que usar gorro y paragüas\")\n",
    "    else:\n",
    "        print(\"Hay que usar gorro pero no hace falta bufanda\")"
   ]
  },
  {
   "cell_type": "markdown",
   "metadata": {},
   "source": [
    "Algunas cosas a tener en cuenta es que ``Else`` siempre va al final, y no lo podemos usar si no hay un ``if`` antes."
   ]
  },
  {
   "cell_type": "markdown",
   "metadata": {},
   "source": [
    "## **BUCLES**\n",
    "Un Bucle es basicamente la ejecucion indefinida de un código hasta que se cumpla una condicion, el código itera sobre valores y hasta no encontrar alque que cumple con la condicion que buscamos no deja de ejecutarse una y otra vez.\n",
    "\n",
    "**BUCLE WHILE**\n",
    "\n",
    "En python, un bucle se puede representar de la siguiente manera:\n",
    "\n",
    "``while``\n",
    "\n",
    "       ``instruction``\n",
    "       \n",
    "La sintaxis que utiliza un bucle es muy similar a la de ``if``, pero en semantica hay una gran diferencia, ``if`` realiza una accion **una única vez** cuando se cumple la condicion, mientras que ``while`` repite la ejecucion siempre y cuando la condicion se evalue como verdadera.\n",
    "Los bucles ``while`` se ven algo así:\n",
    "\n",
    "``while onditional_expression:``\n",
    "\n",
    "        ``ìnstruction1``\n",
    "\n",
    "        ``instruction2``\n",
    "\n",
    "        :\n",
    "\n",
    "        :\n",
    "\n",
    "        ``instructionn``\n",
    "\n",
    "Todas las instrucciones ejecutadas dentro del bucle (que contienen sangria) se denominan \"cuerpo del bucle\". Si la condicion que se especifica al principio es falsa, no se ejecuta ninguna instruccion del cuerpo del bucle, y algo muy importante es que dentro del cuerpo del bucle debe haber alguna accion que **cambie el valor de la condicion**, si ésto no ocurre el bucle podría ejecutarse hasta el infinito.\n",
    "\n",
    "Un **BUCLE INFINITO** tiene ésta pinta:\n",
    "``while True:``\n",
    "        ``print(\"estoy atrapado en este bucle\")``\n",
    "Este bucle imprimira infinitamente \"estoy atrapado en este bucle\" en la consola.\n",
    "Para evitar bucles infinitos, como mencionamos debemos darle algo al bucle que frene la ejecucion, cambiando la condicion del inicio de True a False. Para ésto usamos los condicionales que aprendimos ``if, else, elif``."
   ]
  },
  {
   "cell_type": "code",
   "execution_count": 8,
   "metadata": {},
   "outputs": [
    {
     "name": "stdout",
     "output_type": "stream",
     "text": [
      "Conteo de números impares: 0\n",
      "Conteo de números pares: 0\n"
     ]
    }
   ],
   "source": [
    "# Un programa que lee una secuencia de números\n",
    "# y cuenta cuántos números son pares y cuántos son impares.\n",
    "# El programa termina cuando se ingresa un cero.\n",
    "\n",
    "odd_numbers = 0\n",
    "even_numbers = 0\n",
    "\n",
    "# Lee el primer número.\n",
    "number = int(input(\"Introduce un número o escribe 0 para detener: \"))\n",
    "\n",
    "# 0 termina la ejecución.\n",
    "while number != 0:\n",
    "    # Verificar si el número es impar.\n",
    "    if number % 2 == 1:\n",
    "        # Incrementar el contador de números impares odd_numbers.\n",
    "        odd_numbers += 1\n",
    "    else:\n",
    "        # Incrementar el contador de números pares even_numbers.\n",
    "        even_numbers += 1\n",
    "    # Leer el siguiente número.\n",
    "    number = int(input(\"Introduce un número o escribe 0 para detener: \"))\n",
    "\n",
    "# Imprimir resultados.\n",
    "print(\"Conteo de números impares:\", odd_numbers)\n",
    "print(\"Conteo de números pares:\", even_numbers)\n",
    "\n"
   ]
  },
  {
   "cell_type": "markdown",
   "metadata": {},
   "source": [
    "El bucle de arriba primero verifica que se cumpla con la condicion que ``number != 0``, si se cumple se ingresa al bucle, sino se sale y se siguen ejecutando las lineas siguientes.\n",
    "Una vez dentro del bucle planteamos condicionales, como queremos diferenciar entre números pares e impares usamos ``if`` y ``else``, y se ejecuta la ultima linea donde le pide ingresar un número de nuevo, ésta última linea se va a ejecutar cada vez que se ingrese un número distinto a 0, porque ya estamos dentro del bucle y la única forma de salir es ingresando 0, es decir la forma de \"salir del bucle\" se plantea desde el principio, y para cambiar la condicion de True a Flase se utiliza la última linea de código.\n",
    "Una vez fuera del bucle simplemente se ejecutan las lineas siguientes."
   ]
  },
  {
   "cell_type": "markdown",
   "metadata": {},
   "source": [
    "**BUCLE FOR**\n",
    "\n",
    "Otra forma de crear un bucle es utilizando el **bucle for**, este puede explorar grandes colecciones de datos elemento por elemento (iterando), pero empecemos de forma sencilla.\n",
    "Un bucle for va a tener ésta pinta:\n",
    "\n",
    "``for i in range(100)``\n",
    "\n",
    "        ``do_something()``\n",
    "\n",
    "        ``pass``\n",
    "\n",
    "Veamos las diferencia con el bucle while:\n",
    "- No hay condicion: ``for`` abre el bucle pero no se establece ninguna condicion para cerrarlo como en while.\n",
    "- Cualquier palabra despues de ``for`` es una **variable de control**, es muy comun nombrar a esta variable como ``i``.\n",
    "- Luego de la variable de control se introduce el rango de valores que puede tomar la variable de control, y se utiliza la palabra clave reservada ``in``.\n",
    "- se establace el rango de valores que va a tomar la variable controlada: es muy comun utilizar la funcion integrada **range()**, que crea una lista de valores de un rango establecido, por ejmplo ``range(10)`` crea una lista desde el 0 al 9. Mas adelante vermos que se pueden utilizar listas o tuplas para iterar.\n",
    "\n",
    "Una vez que tengamos todos estos elementos podemos ingresar al bucle, alli le especificamos que instruccion seguir y el bucle ejecutara esta tomando todos los valores posibles para ``i``, veamoslo con un ejemplo:"
   ]
  },
  {
   "cell_type": "code",
   "execution_count": 12,
   "metadata": {},
   "outputs": [
    {
     "name": "stdout",
     "output_type": "stream",
     "text": [
      "El valor de i es 0\n",
      "El valor de i es 1\n",
      "El valor de i es 2\n",
      "El valor de i es 3\n",
      "El valor de i es 4\n",
      "El valor de i es 5\n",
      "El valor de i es 6\n",
      "El valor de i es 7\n",
      "El valor de i es 8\n",
      "El valor de i es 9\n",
      "9\n"
     ]
    }
   ],
   "source": [
    "for i in range(10):\n",
    "    print(\"El valor de i es\", i)\n",
    "print(i)"
   ]
  },
  {
   "cell_type": "markdown",
   "metadata": {},
   "source": [
    "La instruccion, que es que se imprima el valor de i, se ejecuta 10 veces, porque ese es el numero de veces que ``i`` toma un valor distinto, en este caso en un rango del 0 al 9. El valor final de ``i`` será el ultimo que tomo (9). Recordemos que la funcion *range()* puede recibir mas de un argumento indicandole desde que numero tomar hasta cual, por ej. **range(2, 8)** toma desde el 2 inclusive hasta el 7 inclusive, es decir el segundo numero marca el limite.\n",
    "Tambien se le puede indicar que vaya de 2 en 2, de 3 en 3, y así sucesivamente agregando un 3er argumento, por ej. **range(2, 8, 3)** toma desde el 2 hasta el 8 y va de 3 en tres, por lo tanto los valores dentro de esta funcion pueden ser 2 y 5 (**2**, 3, 4, **5**, 6, 7).\n",
    "Notar que la funcion range() siempre va en **orden ascendente**, por lo que no podemos darle los argumento (8, 2)"
   ]
  },
  {
   "cell_type": "code",
   "execution_count": 14,
   "metadata": {},
   "outputs": [
    {
     "name": "stdout",
     "output_type": "stream",
     "text": [
      "1 Mississippi\n",
      "2 Mississippi\n",
      "3 Mississippi\n",
      "4 Mississippi\n",
      "5 Mississippi\n",
      "Listos o no aqui voy!\n"
     ]
    }
   ],
   "source": [
    "import time\n",
    "\n",
    "for i in range(5):\n",
    "    print(f\"{i+1} Mississippi\")\n",
    "    time.sleep(1)\n",
    "print(\"Listos o no aqui voy!\")"
   ]
  },
  {
   "cell_type": "markdown",
   "metadata": {},
   "source": [
    "**SENTENCIAS ``break`` Y ``continue``**\n",
    "En ocasiones es necesario salir del bucle, incluso si se cumple la condicion, y otras veces, al contrario, debemos seguir ejecutandolo aunque no se cumpla la condicion, para ésto podemos usar las sentencias ``break`` y ``continue`` respectivamente.\n",
    "``Break`` sale inmediatamente del bucle, finaliza la accion del mismo y el programa sigue ejecutando otras instrucciones.\n",
    "``Continue`` se comporta como si el programa hubiera llegado repentinamente al final del cuerpo, iniciando el siguiente turno, es decir se usa para omitir el valor actual y avanzar a la siguiente iteracion.\n",
    "\n",
    "Ambas son palabras reservadas, y para ejecutarse deben recibir un **condicional**, es decir le debemos decir al programa \"si ésto se cumple, sali del bucle (``break``), o segui ejecutando (``continue``)\" veamos un ejemplo para entender mejor.\n",
    "\n"
   ]
  },
  {
   "cell_type": "code",
   "execution_count": 1,
   "metadata": {},
   "outputs": [
    {
     "name": "stdout",
     "output_type": "stream",
     "text": [
      "La instrucción break:\n",
      "Dentro del bucle. 1\n",
      "Dentro del bucle. 2\n",
      "Fuera del bucle.\n",
      "\n",
      "La instrucción continue:\n",
      "Dentro del bucle. 1\n",
      "Dentro del bucle. 2\n",
      "Dentro del bucle. 4\n",
      "Dentro del bucle. 5\n",
      "Fuera del bucle.\n"
     ]
    }
   ],
   "source": [
    "print(\"La instrucción break:\")\n",
    "for i in range(1, 6):\n",
    "    if i == 3:\n",
    "        break\n",
    "    print(\"Dentro del bucle.\", i)\n",
    "print(\"Fuera del bucle.\")\n",
    "\n",
    "\n",
    "# continue - ejemplo\n",
    "\n",
    "print(\"\\nLa instrucción continue:\")\n",
    "for i in range(1, 6):\n",
    "    if i == 3:\n",
    "        continue\n",
    "    print(\"Dentro del bucle.\", i)\n",
    "print(\"Fuera del bucle.\")"
   ]
  },
  {
   "cell_type": "markdown",
   "metadata": {},
   "source": [
    "Vemos como en el primer bucle, cuando la variable controlada se vuelve 3, el bucle se rompe, mientras que en el segundo, cuando la variable controlada se vuelve 3 continuamos.\n",
    "Esto puede ser útil para cuando querramos iterar en una base de datos y queremos saltearnos algunos valores, en ese caso usamos ``continue``, o si queremos iterar hasta un valor determinado y salir, usamos ``break``"
   ]
  },
  {
   "cell_type": "code",
   "execution_count": 3,
   "metadata": {},
   "outputs": [
    {
     "name": "stdout",
     "output_type": "stream",
     "text": [
      "el doble de los primeros 5 numeros es: 2\n",
      "el doble de los primeros 5 numeros es: 4\n",
      "el doble de los primeros 5 numeros es: 6\n",
      "el doble de los primeros 5 numeros es: 8\n",
      "el doble de los primeros 5 numeros es: 10\n",
      "el doble de los numeros NO primos es: 2\n",
      "el doble de los numeros NO primos es: 4\n",
      "el doble de los numeros NO primos es: 6\n",
      "el doble de los numeros NO primos es: 8\n",
      "el doble de los numeros NO primos es: 10\n",
      "el doble de los numeros NO primos es: 12\n",
      "el doble de los numeros NO primos es: 16\n",
      "el doble de los numeros NO primos es: 18\n",
      "el doble de los numeros NO primos es: 20\n",
      "el doble de los numeros NO primos es: 22\n",
      "el doble de los numeros NO primos es: 24\n"
     ]
    }
   ],
   "source": [
    "list = [1, 2, 3, 4, 5, 6, 7, 8, 9, 10, 11, 12]\n",
    "\n",
    "for i in list:\n",
    "    if i == 6:\n",
    "        break\n",
    "    print(f\"el doble de los primeros 5 numeros es: {i*2}\")\n",
    "\n",
    "for i in list:\n",
    "    if i ==7:\n",
    "        continue\n",
    "    print(f\"el doble de los numeros NO primos es: {2*i}\")"
   ]
  },
  {
   "cell_type": "markdown",
   "metadata": {},
   "source": [
    "Es importante aclarar que estas dos sentencias se pueden utilizar en cualquier tipo de bucle, es bastante utilizado en bucles ``for`` pero tranquilamente lo podemos utilizar en un bucle ``while``:"
   ]
  },
  {
   "cell_type": "code",
   "execution_count": 1,
   "metadata": {},
   "outputs": [
    {
     "name": "stdout",
     "output_type": "stream",
     "text": [
      "has dejado el bucle con exito\n"
     ]
    }
   ],
   "source": [
    "palabra = input(\"\"\"ingrese cualquier palabra o \"chupacabra\" para salir\"\"\")\n",
    "\n",
    "while palabra != \"chupacabra\":\n",
    "    palabra = input(\"\"\"ingrese cualquier palabra o \"chupacabra\" para salir\"\"\")\n",
    "    if palabra == \"chupacabra\":\n",
    "        print(\"has dejado el bucle con exito\")\n",
    "        break"
   ]
  },
  {
   "cell_type": "markdown",
   "metadata": {},
   "source": [
    "**BUCLES Y RAMA ``ELSE``**\n",
    "Ambos bucles pueden hacer uso de la rama ``else``, recordemos que la utilizabamos para condicionales, pero tambien se puede aplicar a bucles de una forma muy similar a los condicionales, recordemos que ``else`` debia esta predecedido siempre por un condicional, es decir no lo podíamos usar solo, de forma que si lo utilizamos con un bucle este funcional como un condicional.\n",
    "La rama ``else`` siempre se ejecuta una vez independientemente de si el bucle ha entrado o no a su cuerpo.\n",
    "Vemos un ejemplo para cada cas:"
   ]
  },
  {
   "cell_type": "code",
   "execution_count": 11,
   "metadata": {},
   "outputs": [
    {
     "name": "stdout",
     "output_type": "stream",
     "text": [
      "1\n",
      "2\n",
      "3\n",
      "4\n",
      "else: 5\n"
     ]
    }
   ],
   "source": [
    "i = 1\n",
    "while i < 5:\n",
    "    print(i)\n",
    "    i += 1\n",
    "else:\n",
    "    print(\"else:\", i)"
   ]
  },
  {
   "cell_type": "code",
   "execution_count": 3,
   "metadata": {},
   "outputs": [
    {
     "name": "stdout",
     "output_type": "stream",
     "text": [
      "0\n",
      "1\n",
      "2\n",
      "3\n",
      "4\n",
      "else: 4\n"
     ]
    }
   ],
   "source": [
    "for i in range(5):\n",
    "    print(i)\n",
    "else:\n",
    "    print(\"else:\", i)"
   ]
  },
  {
   "cell_type": "markdown",
   "metadata": {},
   "source": [
    "En el primer bucle donde se utiliza ``while`` se plantea la condicion de que **i < 5**, si esto se cumple se ingresa al bucle y dentro de éste recibe dos instrucciones, una es imprimir el valor de i, y otra esaumentar el valor de i en una unidad (``i += 1``), una vez que i alcanza una valor mayor a 5, el programa sale del bucle y se ejecuta la rama ``else``.\n",
    "En el segundo bucle le damos a la variable de control una rango de 5 (de 0 a 4), la instruccion de imprimir cada valor del rango, y cuando termina de iterar se ejecuta la rama ``else``.\n",
    "\n",
    "<span style=\"color: red;\"> notar que en los bucles ``while`` se debe definir la variable que se va a utilizar antes de crear el bucle, mientras que los bucles ``for`` crean la variable ellos mismos</span> es más, si en un bucle ``for`` se asigna el valor de la variable antes de crear el bucle éste no se va a ejecutar. "
   ]
  },
  {
   "cell_type": "code",
   "execution_count": 15,
   "metadata": {},
   "outputs": [
    {
     "name": "stdout",
     "output_type": "stream",
     "text": [
      "La altura de la pirámide es: 0\n"
     ]
    }
   ],
   "source": [
    "blocks = int(input(\"Ingrese el número total de bloques: \"))\n",
    "\n",
    "altura = 0  # Altura de la pirámide\n",
    "capa = 1    # Número de bloques requeridos para la siguiente capa\n",
    "\n",
    "while blocks >= capa:  # Mientras haya suficientes bloques para la capa actual\n",
    "    blocks -= capa     # Resta los bloques usados por la capa actual\n",
    "    altura += 1        # Incrementa la altura de la pirámide\n",
    "    capa += 1          # Aumenta el número de bloques requeridos para la siguiente capa\n",
    "\n",
    "print(f\"La altura de la pirámide es: {altura}\")"
   ]
  },
  {
   "cell_type": "markdown",
   "metadata": {},
   "source": [
    "## **OPERADORES LÓGICOS**\n",
    "\n",
    "Las condiciones que utilizamos en la vida real son mucho más complejas. Veamos este enunciado:\n",
    "Si tenemos tiempo libre, y el clima es bueno, saldremos a caminar.\n",
    "\n",
    "Hemos utilizado la conjunción ``and`` (y), lo que significa que salir a caminar depende del cumplimiento simultáneo de estas dos condiciones. En el lenguaje de la lógica, tal conexión de condiciones se denomina conjunción. Y ahora otro ejemplo:\n",
    "Si tu estás en el centro comercial o yo estoy en el centro comercial, uno de nosotros le comprará un regalo a mamá.\n",
    "\n",
    "La aparición de la palabra ``or`` (o) significa que la compra depende de al menos una de estas condiciones. En lógica, este compuesto se llama una disyunción.\n",
    "\n",
    "**OPERADOR ``and``**: Es un operador binario, con éste operador es posible plantar 2 o más condiciones y que una accion se cunpla sí y solo sí ambas condiciones son verdaderas:\n",
    "\n",
    "A = Falso\n",
    "\n",
    "B = Verdadero\n",
    "\n",
    "A and B = Falso\n",
    "\n",
    "**OPERADOR ``or``**: tambien un operador binario con una prioridad más baja que ``and``, al utilizar ``or`` si alguna de las dos condiciones es verdadera se ejecuta la accion.\n",
    "\n",
    "**OPERADOR ``and``**: este operador se utiliza para condiciones de contruccion, y es un operador unitario que realiza una negacion lógica, es decir convierte algo verdadero en falso y viceversa. Tiene una prioridad alta.\n",
    "\n",
    "``var = 1``\n",
    "\n",
    "``print(var > 0)``\n",
    "\n",
    "``print(not (var <= 0))``\n",
    "\n",
    "Ambas condiciones son verdaderas, porque si bien ``var`` no es menor o igual a 0, al tener el operador ``not`` antes lo convierte en verdadero.\n"
   ]
  },
  {
   "cell_type": "markdown",
   "metadata": {},
   "source": [
    "## **LISTAS**\n",
    "\n",
    "Ya habiamos visto como se definía una lista, simplemente, al igual que una variable escribimos el nombre de la lista y un ``=`` y para abrir la lista utilizamos ``[]`` separando cada elemento de la lista con una coma.\n",
    "Vimos que utilizaondo los **indexados** podíamos cambiar el valor de un elemento esécífico d euna lista y que el primer elemento siempre lleva el indice *0*, así por ejemplo:"
   ]
  },
  {
   "cell_type": "code",
   "execution_count": 2,
   "metadata": {},
   "outputs": [
    {
     "name": "stdout",
     "output_type": "stream",
     "text": [
      "Contenido de la lista: [10, 5, 7, 2, 1]\n",
      "Nuevo contenido de la lista:  [111, 5, 7, 2, 1]\n",
      "Nuevo contenido de la lista:  [111, 1, 7, 2, 1]\n"
     ]
    }
   ],
   "source": [
    "numbers = [10, 5, 7, 2, 1]\n",
    "print(\"Contenido de la lista:\", numbers)  # Imprimiendo contenido de la lista original.\n",
    "\n",
    "numbers[0] = 111\n",
    "print(\"Nuevo contenido de la lista: \", numbers)  # Contenido actual de la lista.\n",
    "\n",
    "numbers[1] = numbers[4]\n",
    "print(\"Nuevo contenido de la lista: \", numbers)"
   ]
  },
  {
   "cell_type": "markdown",
   "metadata": {},
   "source": [
    "Vimos tambien algunas funciones integradas a listas como ``len()`` que podía calcular el largo de una lista, es decir cuantos elementos hay en la misma, esta recibe el nombre de la lista como argumento y devuelve un número entero.\n",
    "Tambien vimos la **instruccion** ``del`` que sirve para eliminar elementos de una lista, especificandole el nombre de la lista y entre corchetes el índice del elemento que se desea eliminar."
   ]
  },
  {
   "cell_type": "code",
   "execution_count": 3,
   "metadata": {},
   "outputs": [
    {
     "name": "stdout",
     "output_type": "stream",
     "text": [
      "4\n",
      "[111, 7, 2, 1]\n"
     ]
    }
   ],
   "source": [
    "del numbers[1]\n",
    "print(len(numbers))\n",
    "print(numbers)"
   ]
  },
  {
   "cell_type": "markdown",
   "metadata": {},
   "source": [
    "Cuando trabajamos con listas los **metodos** cobran gran importancia, algunos de los métodos más utilizados que vimos eran ``.append()`` para agregar valores a una lista, ``.insert(index, value)`` para insertar elementos en un lugar específico."
   ]
  },
  {
   "cell_type": "code",
   "execution_count": 4,
   "metadata": {},
   "outputs": [
    {
     "name": "stdout",
     "output_type": "stream",
     "text": [
      "5\n",
      "[111, 7, 2, 1, 4]\n",
      "6\n",
      "[222, 111, 7, 2, 1, 4]\n"
     ]
    }
   ],
   "source": [
    "numbers.append(4)\n",
    "\n",
    "print(len(numbers))\n",
    "print(numbers)\n",
    "\n",
    "###\n",
    "\n",
    "numbers.insert(0, 222)\n",
    "print(len(numbers))\n",
    "print(numbers)"
   ]
  },
  {
   "cell_type": "markdown",
   "metadata": {},
   "source": [
    "Si recoradmos, los bucles ``for`` podían crear variables iterando sobre un rango de numeros, podemos aprovechar ésta capacidad para crear listas a partir de bucles, veamos un ejemplo:"
   ]
  },
  {
   "cell_type": "code",
   "execution_count": 9,
   "metadata": {},
   "outputs": [
    {
     "name": "stdout",
     "output_type": "stream",
     "text": [
      "[5, 4, 3, 2, 1]\n"
     ]
    }
   ],
   "source": [
    "my_list = []  # Creando una lista vacía.\n",
    "\n",
    "for i in range(5):\n",
    "    my_list.insert(0, i + 1) # Agregar el elemento al principio de la lista.\n",
    "\n",
    "print(my_list)"
   ]
  },
  {
   "cell_type": "code",
   "execution_count": 37,
   "metadata": {},
   "outputs": [
    {
     "name": "stdout",
     "output_type": "stream",
     "text": [
      "[1, 2, 3, 4, 5]\n"
     ]
    }
   ],
   "source": [
    "my_list = []  # Creando una lista vacía.\n",
    "\n",
    "for i in range(5):\n",
    "    my_list.append(i + 1)  # Agregar el elemento al final de la lista.\n",
    "\n",
    "print(my_list)\n"
   ]
  },
  {
   "cell_type": "markdown",
   "metadata": {},
   "source": [
    "El bucle ``for`` es una de los favoritos de las listas, vimos que se utiliza para iterar y las listas justamente tienen multiples elementos para ser iterados, y ademas podeos crear nuevas listas con valores derivados de otroas, etc. En resumen el bucle ``for`` puede procesar listas de manera muy efectiva:"
   ]
  },
  {
   "cell_type": "code",
   "execution_count": 10,
   "metadata": {},
   "outputs": [
    {
     "name": "stdout",
     "output_type": "stream",
     "text": [
      "27\n"
     ]
    }
   ],
   "source": [
    "my_list = [10, 1, 8, 3, 5]\n",
    "total = 0\n",
    "\n",
    "for i in range(len(my_list)):\n",
    "    total += my_list[i]\n",
    "\n",
    "print(total)"
   ]
  },
  {
   "cell_type": "markdown",
   "metadata": {},
   "source": [
    "Vemos que al bucle se le da un rango equivalente al numero total de elementos que posee la lista sobre la cual va a iterar utilizando la funcion ``len()``, es una forma bastante inteligente de darle el rango específico al bucle para iterar sobre nuestra lista ya que si le damos un rango máyor al número de elementos que tiene la lista no dará error"
   ]
  },
  {
   "cell_type": "code",
   "execution_count": 17,
   "metadata": {},
   "outputs": [
    {
     "ename": "IndexError",
     "evalue": "list index out of range",
     "output_type": "error",
     "traceback": [
      "\u001b[1;31m---------------------------------------------------------------------------\u001b[0m",
      "\u001b[1;31mIndexError\u001b[0m                                Traceback (most recent call last)",
      "Cell \u001b[1;32mIn[17], line 5\u001b[0m\n\u001b[0;32m      2\u001b[0m total \u001b[38;5;241m=\u001b[39m \u001b[38;5;241m0\u001b[39m\n\u001b[0;32m      4\u001b[0m \u001b[38;5;28;01mfor\u001b[39;00m i \u001b[38;5;129;01min\u001b[39;00m \u001b[38;5;28mrange\u001b[39m(\u001b[38;5;241m6\u001b[39m):\n\u001b[1;32m----> 5\u001b[0m     total \u001b[38;5;241m+\u001b[39m\u001b[38;5;241m=\u001b[39m \u001b[43mmy_list\u001b[49m\u001b[43m[\u001b[49m\u001b[43mi\u001b[49m\u001b[43m]\u001b[49m\n\u001b[0;32m      7\u001b[0m \u001b[38;5;28mprint\u001b[39m(total)\n",
      "\u001b[1;31mIndexError\u001b[0m: list index out of range"
     ]
    }
   ],
   "source": [
    "my_list = [10, 1, 8, 3, 5]\n",
    "total = 0\n",
    "\n",
    "for i in range(6):\n",
    "    total += my_list[i]\n",
    "\n",
    "print(total)"
   ]
  },
  {
   "cell_type": "markdown",
   "metadata": {},
   "source": [
    "Dependiendo que querramos hacer vamos a utilizar un u otro modo, el mismo codigo de arriba se puede simplificar mucho más simplemente dandole como \"rango\" al bucle ``for`` directamente la lista, de ésta forma no hay margen de error, el bucle se va a ejecutar la misma cantidad de veces que elementos en la lista."
   ]
  },
  {
   "cell_type": "code",
   "execution_count": 12,
   "metadata": {},
   "outputs": [
    {
     "name": "stdout",
     "output_type": "stream",
     "text": [
      "27\n"
     ]
    }
   ],
   "source": [
    "my_list = [10, 1, 8, 3, 5]\n",
    "total = 0\n",
    "\n",
    "for i in my_list:\n",
    "    total += i\n",
    "\n",
    "print(total)"
   ]
  },
  {
   "cell_type": "markdown",
   "metadata": {},
   "source": [
    "Las listas son elementos **mutables**, es decir que podemos modificarlas cuantas veces querramos, esto tomara más sentido cuando veamos diccionarios, tuplas, etc. una forma práctica y elegante de cambiar de lugar los elementos de listas que nos ofrece python es simplemente asignando el valor utilizando ``=``, vemaos un ejemplo simple solo con variables (tambien se puede hacer solo con variables) y uno con elementos de una misma lista:"
   ]
  },
  {
   "cell_type": "code",
   "execution_count": 13,
   "metadata": {},
   "outputs": [
    {
     "name": "stdout",
     "output_type": "stream",
     "text": [
      "2 1\n"
     ]
    }
   ],
   "source": [
    "var1 = 1\n",
    "var2 = 2\n",
    "\n",
    "var1, var2 = var2, var1\n",
    "\n",
    "print(var1, var2)"
   ]
  },
  {
   "cell_type": "code",
   "execution_count": 14,
   "metadata": {},
   "outputs": [
    {
     "name": "stdout",
     "output_type": "stream",
     "text": [
      "[5, 3, 8, 1, 10]\n"
     ]
    }
   ],
   "source": [
    "my_list = [10, 1, 8, 3, 5]\n",
    "\n",
    "my_list[0], my_list[4] = my_list[4], my_list[0]\n",
    "my_list[1], my_list[3] = my_list[3], my_list[1]\n",
    "\n",
    "print(my_list)"
   ]
  },
  {
   "cell_type": "markdown",
   "metadata": {},
   "source": [
    "Vemos como revertimos el orde de la lista utilizando una sintaxis simple, sin embargo, la lista que usamos solo tiene 5 elementos, crees que sería práctico hacerlo con una lista de +100 elementos? deberíamos escribir al menos 50 lineas, lo cual no es para nada práctico, pero como todo, hay una solucion, podemos utilizar el bucle ``for``! recuerda que es el preferido de las listas, siempre que tengas una lista pensa en él:"
   ]
  },
  {
   "cell_type": "code",
   "execution_count": 15,
   "metadata": {},
   "outputs": [
    {
     "name": "stdout",
     "output_type": "stream",
     "text": [
      "[5, 4, 3, 2, 1]\n"
     ]
    }
   ],
   "source": [
    "my_list = [1, 2, 3, 4, 5]\n",
    "length = len(my_list)  # 5\n",
    "\n",
    "for i in range(length // 2):\n",
    "    my_list[i], my_list[length - i - 1] = my_list[length - i - 1], my_list[i]\n",
    "\n",
    "print(my_list)"
   ]
  },
  {
   "cell_type": "markdown",
   "metadata": {},
   "source": [
    "Parece complicado pero no lo es realmente, veamos un poco más en detalle, el bucle simplemente divide a la lista en 2, es decir ``i`` va a iterar solo la mitad de veces de elementos que contenga la lista (notar que sí podemos iterar sobre una lista menos veces que elementos contenga ésta, no así iterar más veces que elmentos, lo vimos más arriba), y el cuerpo del bucle simplemente tiene la instruccion de intercambiar los valores que vimos, ``my_list[i]`` en la primera iteracion es equivalente a ``my_list[0]``, y ``my_list[length - i - 1]`` es equivalente a ``my_list[4]``, ya que toma el valor de la variable ``length`` (5) le resta el valor de ``i`` (0) y ``1`` para que coincida con el índice del último elemento!"
   ]
  },
  {
   "cell_type": "code",
   "execution_count": null,
   "metadata": {},
   "outputs": [
    {
     "name": "stdout",
     "output_type": "stream",
     "text": [
      "[1, 2, 3, 4, 5, 6, 7, 8, 9, 10, 11, 12, 13, 14, 15, 16, 17, 18, 19, 20, 21, 22, 23, 24, 25, 26, 27, 28, 29, 30, 31, 32, 33, 34, 35, 36, 37, 38, 39, 40, 41, 42, 43, 44, 45, 46, 47, 48, 49, 50, 51, 52, 53, 54, 55, 56, 57, 58, 59, 60, 61, 62, 63, 64, 65, 66, 67, 68, 69, 70, 71, 72, 73, 74, 75, 76, 77, 78, 79, 80, 81, 82, 83, 84, 85, 86, 87, 88, 89, 90, 91, 92, 93, 94, 95, 96, 97, 98, 99, 100]\n",
      "[100, 99, 98, 97, 96, 95, 94, 93, 92, 91, 90, 89, 88, 87, 86, 85, 84, 83, 82, 81, 80, 79, 78, 77, 76, 75, 74, 73, 72, 71, 70, 69, 68, 67, 66, 65, 64, 63, 62, 61, 60, 59, 58, 57, 56, 55, 54, 53, 52, 51, 50, 49, 48, 47, 46, 45, 44, 43, 42, 41, 40, 39, 38, 37, 36, 35, 34, 33, 32, 31, 30, 29, 28, 27, 26, 25, 24, 23, 22, 21, 20, 19, 18, 17, 16, 15, 14, 13, 12, 11, 10, 9, 8, 7, 6, 5, 4, 3, 2, 1]\n"
     ]
    }
   ],
   "source": [
    "my_list1 =[]\n",
    "for i in range(100):\n",
    "     my_list1.append(i + 1)\n",
    "print(my_list1)\n",
    "    \n",
    "length = len(my_list1)\n",
    "\n",
    "for i in range(length // 2):\n",
    "    my_list1[i], my_list1[length - i - 1] = my_list1[length - i - 1], my_list1[i]\n",
    "\n",
    "print(my_list1)"
   ]
  },
  {
   "cell_type": "markdown",
   "metadata": {},
   "source": [
    "**ORDENAMIENTO DE LISTAS** Python tiene un método específico para ordenar listas, por defecto las ordena de manera creciente (de menos a mayor), éste método es ``.sort()``, en el caso que sean cadenas, las ordena alfabéticamente, incluso si tenemos una lista de variables, ordenará las variables segun su valor:"
   ]
  },
  {
   "cell_type": "code",
   "execution_count": 22,
   "metadata": {},
   "outputs": [
    {
     "name": "stdout",
     "output_type": "stream",
     "text": [
      "['A', 'D', 'F', 'Z']\n",
      "[2, 4, 10, 20, 99]\n",
      "[1, 2, 3]\n"
     ]
    }
   ],
   "source": [
    "lst = [\"D\", \"F\", \"A\", \"Z\"]\n",
    "lst.sort()\n",
    "lst2 = [10, 4, 99, 20, 2]\n",
    "lst2.sort()\n",
    "print(lst)\n",
    "print(lst2)\n",
    "\n",
    "a = 3\n",
    "b = 1\n",
    "c = 2\n",
    "\n",
    "lst3 = [a, c, b]\n",
    "lst3.sort()\n",
    "print(lst3)"
   ]
  },
  {
   "cell_type": "markdown",
   "metadata": {},
   "source": [
    " Algo muy importante de las listas y que las diferencia de las variables ordinarias es que <span style=\"color: green;\"> el nombre de una lista es el nombre de una ubicación de memoria donde se almacena la lista, es decir, si asignamos una lista a otra lista ``list1 = list2`` ambas ocuparan la misma ubicacion en la memoria</span>, por lo que cualquier cambio en una de ellas afectara a la otra, que hacemos cuando queremos duplicar una lista y modificarla sin que afecte a la origina? la respuesta es utilizando **rebanadas** utilizando simplemente el caracter ``:`` entre los corchetes de la nueva lista, incluso, si queremos tomar algunos elementos de la lista orginal podemos utilizar la rabanada para determinar el rango de elementos a seleccionar:"
   ]
  },
  {
   "cell_type": "code",
   "execution_count": 24,
   "metadata": {},
   "outputs": [
    {
     "name": "stdout",
     "output_type": "stream",
     "text": [
      "[2]\n",
      "[1]\n"
     ]
    }
   ],
   "source": [
    "list_1 = [1]\n",
    "list_2 = list_1\n",
    "list_1[0] = 2\n",
    "print(list_2)\n",
    "\n",
    "list_3 = [1]\n",
    "list_4 = list_3[:]\n",
    "list_3[0] = 2\n",
    "print(list_4)"
   ]
  },
  {
   "cell_type": "markdown",
   "metadata": {},
   "source": [
    "vemos que en el primer caso ``list_2`` primero toma el valor de 1 (el mismo que ``list_1``) y al modificar esta ultima cambia el valor de la primera, mientras que en el segundo caso, lugo de modificar la lista de origen (``list_3``) no cambia el valor inicial de ``list_4``.\n",
    "Si quisiesemos elegir un rango de los elementos de una lista para crear otra se utiliza ``new_list[start:end]``.\n",
    "\n",
    "las **rebanadas** tambien pueden utilizarse de otras formas, por ejemplo para mutar listas, ya que es útil para seleccionar rangos de listas, veamos un ejemplo con la intruccion ``del``:"
   ]
  },
  {
   "cell_type": "code",
   "execution_count": 25,
   "metadata": {},
   "outputs": [
    {
     "name": "stdout",
     "output_type": "stream",
     "text": [
      "[10, 4, 2]\n"
     ]
    }
   ],
   "source": [
    "my_list = [10, 8, 6, 4, 2]\n",
    "del my_list[1:3]\n",
    "print(my_list)"
   ]
  },
  {
   "cell_type": "markdown",
   "metadata": {},
   "source": [
    "**OPERADORES ``in`` Y ``not in``:** una forma rápida y simple de verificar si un elemento esta presente o no es una lista es haciendo uso del operador ``in``, in recibe un argumento a la izquierda, que correspondera al elemento que deseamos checkear, y otro a la derecha que será la lista donde queremos checkear:\n",
    "\n",
    "``elemto in lista``\n",
    "\n",
    "El operador ``not in`` se usa exáctamente de la misma manera pero devuelve ``True`` solo si el elemento esta ausente en la lista."
   ]
  },
  {
   "cell_type": "code",
   "execution_count": 26,
   "metadata": {},
   "outputs": [
    {
     "name": "stdout",
     "output_type": "stream",
     "text": [
      "False\n",
      "True\n",
      "True\n"
     ]
    }
   ],
   "source": [
    "my_list = [0, 3, 12, 8, 2]\n",
    "\n",
    "print(5 in my_list)\n",
    "print(5 not in my_list)\n",
    "print(12 in my_list)"
   ]
  },
  {
   "cell_type": "markdown",
   "metadata": {},
   "source": [
    "**COMPRESION DE LISTAS** Una compresion de listas es una forma de crear listas en python de manera simple y concisa, utiliza una única lista de codigo y la intaxxis básica es:\n",
    "\n",
    "``nueva_lista = [expresión for elemento in iterable if condición]``\n",
    "\n",
    "``expresion`` es lo que se añade a la lista, puede ser un valor directo, una operacion matemática, una funcion aplicada a un elemento, etc.\n",
    "\n",
    "``for elemento in iterable`` un bucle que recorre cada elemento d eun objeto iterable, generalmente un rango, pero puede ser otra lista.\n",
    "\n",
    "``if condicion`` este fragmento es opcional, perso sirve para filtrar elementos que se añadiran a la lista, es decir solo los elementos que cumplan esta condicion pueden ingresar."
   ]
  },
  {
   "cell_type": "code",
   "execution_count": 31,
   "metadata": {},
   "outputs": [
    {
     "name": "stdout",
     "output_type": "stream",
     "text": [
      "[0, 1, 4, 9, 16, 25, 36, 49, 64, 81]\n"
     ]
    }
   ],
   "source": [
    "squares = [x ** 2 for x in range(10)]\n",
    "print(squares)"
   ]
  },
  {
   "cell_type": "markdown",
   "metadata": {},
   "source": [
    "Este código crea una lista llamada ``rsquare``, crea una variable ``x`` que este elevada al cuadrado y va a iterar sobre un rango del 0 al 9 tomando todos esos valores y elevandolos al cuadrado."
   ]
  },
  {
   "cell_type": "code",
   "execution_count": 32,
   "metadata": {},
   "outputs": [
    {
     "name": "stdout",
     "output_type": "stream",
     "text": [
      "[1, 2, 4, 8, 16, 32, 64, 128]\n",
      "[1, 9, 25, 49, 81]\n"
     ]
    }
   ],
   "source": [
    "twos = [2 ** i for i in range(8)]\n",
    "\n",
    "odds = [x for x in squares if x % 2 != 0]\n",
    "\n",
    "print(twos)\n",
    "print(odds)\n"
   ]
  },
  {
   "cell_type": "markdown",
   "metadata": {},
   "source": [
    "La lista ``twos`` hace lo mismo que ``squares``, pero la lista ``odds``  toma los valores de la primera lista en lugar de un rango de números! y además plantea una condicion, y es que solo pueden ingresar valores que no sean divisibles por 2 (numeros impares).\n",
    "\n",
    "Habiamos visto antes que se podía crear una lista utilizando el bucle ``for`` mediante el método ``.append()``, veamos el siguiente código que hace uso de compresion de listas y el método ``.append()``:"
   ]
  },
  {
   "cell_type": "code",
   "execution_count": 39,
   "metadata": {},
   "outputs": [
    {
     "name": "stdout",
     "output_type": "stream",
     "text": [
      "[[0, 1, 2, 3, 4, 5, 6, 7], [0, 1, 2, 3, 4, 5, 6, 7], [0, 1, 2, 3, 4, 5, 6, 7], [0, 1, 2, 3, 4, 5, 6, 7], [0, 1, 2, 3, 4, 5, 6, 7], [0, 1, 2, 3, 4, 5, 6, 7], [0, 1, 2, 3, 4, 5, 6, 7], [0, 1, 2, 3, 4, 5, 6, 7]]\n",
      "[0, 1, 2, 3, 4, 5, 6, 7]\n"
     ]
    }
   ],
   "source": [
    "board = []\n",
    "\n",
    "for i in range(8):\n",
    "    row = [i for i in range(8)]\n",
    "    board.append(row)\n",
    "print(board)\n",
    "print(row)"
   ]
  },
  {
   "cell_type": "markdown",
   "metadata": {},
   "source": [
    "El bucle ``for`` itera sobre un rango de 8 y crea una lista llamada ``row``, la cual itera sobre un rango de 8, es decir crea una lista ``[0, 1, 2, 3, 4, 5, 6, 7]``, y a la lista vacía ``board`` le agrega 8 veces la lista ``row``. El resultado son listas dentro de una lista.\n",
    "\n",
    "Analicemos un poco esto, estamos creando dos listas de distintas forma, listas anidadas, pero, podríamos usar solo compresion de listas para crear ambas? **CLARO QUE SI!**. El metodo de compresion puede crear listas anidadas:"
   ]
  },
  {
   "cell_type": "code",
   "execution_count": null,
   "metadata": {},
   "outputs": [
    {
     "name": "stdout",
     "output_type": "stream",
     "text": [
      "[[0, 1, 2, 3, 4, 5, 6, 7], [0, 1, 2, 3, 4, 5, 6, 7], [0, 1, 2, 3, 4, 5, 6, 7], [0, 1, 2, 3, 4, 5, 6, 7], [0, 1, 2, 3, 4, 5, 6, 7], [0, 1, 2, 3, 4, 5, 6, 7], [0, 1, 2, 3, 4, 5, 6, 7], [0, 1, 2, 3, 4, 5, 6, 7]]\n"
     ]
    }
   ],
   "source": [
    "board = [[i for i in range(8)] for j in range(8)]\n",
    "print(board)"
   ]
  },
  {
   "cell_type": "markdown",
   "metadata": {},
   "source": [
    "Lo único que con éste método no podemos crear la lisra ``row``, debemos decidir si realmente era necesaria o no, en éste caso no, si necesitamos que exista podemos utilizar el método anterior."
   ]
  },
  {
   "cell_type": "markdown",
   "metadata": {},
   "source": [
    "**LISTAS ANIDADAS** Las listas anidadas son **arreglos bidimensionales** o **matrices**, esto quiere decir que tendremos al menos dos coordenadas para un único elemento, una coordenada *y* (vertical) y una coordenada *x* (horizontal).\n",
    "\n",
    "Ahora sí podemos familiarizarnos mejor con gráficos de alguna variable en funcion de algo, como por ejemplo la actividad enzimática en funcion de la temperatura, biomasa en funcion del tiempo, etc. Al tener entonces más de una variable tendremos más de un índice, veamoslo en un ejemplo:"
   ]
  },
  {
   "cell_type": "code",
   "execution_count": null,
   "metadata": {},
   "outputs": [
    {
     "name": "stdout",
     "output_type": "stream",
     "text": [
      "[[1, 2, 3, 4], [5, 6, 7, 8], [9, 10, 11, 12], [13, 14, 15, 16], [17, 18, 19, 20]]\n",
      "[9, 10, 11, 12]\n",
      "12\n",
      "12\n"
     ]
    }
   ],
   "source": [
    "# Supongamos que tenemos 20 semillas modificadas genéticamente\n",
    "# a cada una se le asigna un número, se realiza un ensayo de Tilling mezclando\n",
    "# 4 semillas de cada fila (5 filas de 4 semillas), entonces podemos representarlo\n",
    "# como una lista con 5 listas anidadas:\n",
    "\n",
    "semillas = [[i for i in range(j * 4 + 1, j * 4 + 5)] for j in range(5)]\n",
    "print(semillas)\n",
    "\n",
    "# Al realizar el tillin las semillas de la tercera fila dieron positivo para\n",
    "# el gen de interes, por lo tanto una de ellas es la planta que tiene la\n",
    "# mutacion buscada, entonces creo una lista nueva con las semillas que dieron\n",
    "# positivo:\n",
    "\n",
    "semillas_positivas = semillas[2]\n",
    "print(semillas_positivas)\n",
    "\n",
    "# Para selleccionar la semilla con la mutacion se realiza una PCR y una corrida\n",
    "# electroforética y se determina que la semilla 12 es la que posee la mutacion\n",
    "# podemos guardar esa semilla en una variable:\n",
    "\n",
    "semilla_mut = semillas_positivas[3]\n",
    "print(semilla_mut)\n",
    "\n",
    "# Ahora bien, puedo conservar conservar las otras semillas mutadas para armas una\n",
    "# biblioteca, como puedo seleccionar la semilla 12 directamente desde la biblioteca\n",
    "# creada? La lista semillas tiene 2 índice, el primero para la fila de semillas\n",
    "# y el segundo para la semilla en sí, por lo tanto para la semilla 12, los indices\n",
    "# seran [2] y [3]:\n",
    "\n",
    "semilla_mut = semillas[2][3]\n",
    "print(semilla_mut)"
   ]
  }
 ],
 "metadata": {
  "kernelspec": {
   "display_name": "Python 3",
   "language": "python",
   "name": "python3"
  },
  "language_info": {
   "codemirror_mode": {
    "name": "ipython",
    "version": 3
   },
   "file_extension": ".py",
   "mimetype": "text/x-python",
   "name": "python",
   "nbconvert_exporter": "python",
   "pygments_lexer": "ipython3",
   "version": "3.12.5"
  }
 },
 "nbformat": 4,
 "nbformat_minor": 2
}
