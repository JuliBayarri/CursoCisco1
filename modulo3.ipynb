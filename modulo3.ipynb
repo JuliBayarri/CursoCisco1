{
 "cells": [
  {
   "cell_type": "markdown",
   "metadata": {},
   "source": [
    "## **OPERADORES**\n",
    "\n",
    "**IGUALDAD:** el operador igual a (==)\n",
    "Este operador compara los valores de dos operandos y responde a la pregunta \"¿son iguales? o ¿valen lo mismo?\", se pueden comparar valores numéricos, variables con algun valor asignado, valors no numéricos, etc. Tambien se puede utilizar como condicional, es decir establacer una condicion.\n",
    "\n",
    "**DESIGUALDAD:** el operador no igual a (!=)\n",
    "Este operador tambein compara valores, la diferencia es que si son iguales el resultado de la pregunta será ``False``, y si no son iguales el resultado de la comparacion será ``True``."
   ]
  },
  {
   "cell_type": "code",
   "execution_count": 3,
   "metadata": {},
   "outputs": [
    {
     "data": {
      "text/plain": [
       "False"
      ]
     },
     "execution_count": 3,
     "metadata": {},
     "output_type": "execute_result"
    }
   ],
   "source": [
    "var1 = 0\n",
    "var1 != 0"
   ]
  },
  {
   "cell_type": "markdown",
   "metadata": {},
   "source": [
    "**OPERADORES DE COMPARACION: MAYOR, MENOR, MAYOR O IGUAL QUE**\n",
    "Al igual que la igualdad, se puede preguntar si un valor de igual o menor a otro, utilizando los operaodres ``> <``. La respuesta tambien será ``True`` o ``False`` segun corresponda. \n",
    "El operador *mayor que* tiene otra variante especial que es *mayor o gual que* y se denota como ``>=``.\n",
    "Al igual que los operadores de igualdad y desigualdad, son operadores binarios que tienen un enlazado izquierdo y otro derecho.\n",
    "Tambien pueden marcar una condicion, por ejemplo si la temperatura afuera es muy baja debería ponerme un gorro de lana, para expresar ésta condicion podemos usar entonces ``temp_afuera >= 0``."
   ]
  },
  {
   "cell_type": "code",
   "execution_count": 4,
   "metadata": {},
   "outputs": [
    {
     "name": "stdout",
     "output_type": "stream",
     "text": [
      "no hace falta gorro\n"
     ]
    }
   ],
   "source": [
    "temp_afuera = 10\n",
    "if temp_afuera >= 10:\n",
    "    print(\"no hace falta gorro\")"
   ]
  },
  {
   "cell_type": "markdown",
   "metadata": {},
   "source": [
    "**USO DE RESPUESTAS**\n",
    "\n",
    "Se pueden utilizar las respuestas (``True`` y ``False``) de éstos operadores para de distintas maneras, una es almacenandolas en una variable. Otra forma, es como mostramos antes, es para poder tomar una decision, en el codigo anterior la decision que se debía tomar era si usar o no un gorro, a éste tipo de condiciones las veremos enseguida. "
   ]
  },
  {
   "cell_type": "code",
   "execution_count": 5,
   "metadata": {},
   "outputs": [
    {
     "name": "stdout",
     "output_type": "stream",
     "text": [
      "True\n"
     ]
    }
   ],
   "source": [
    "n = int(input(\"Ingresa un número: \"))\n",
    "print(n >= 100)"
   ]
  },
  {
   "cell_type": "markdown",
   "metadata": {},
   "source": [
    "## **CONDICIONES Y EJECUCION CONDICIONAL**\n",
    "En programacion es pocible establacer condiciones, es decir que una accion se cumpla solo si se cumple una determinada condicion, para esto se usan los operadores que venimos viemdo.\n",
    "Para establacer una condicion usamos una **palabra clave reservada** ques es ``if``, seguida de un espacio y una **expresion** cuyo valor se interpreta únicamente en terminos de True o False, finalmente dos puntos y en la linea de abajo, luego de sangría, se especifica la accion.\n",
    "Se pueden mandar tantas acciones como sea necesario pero todas se cumplicar solo cuando se cumpla la condicion y deben estar antecedidas de sangría.\n",
    "\n",
    "Ahora bien, podemos establacer que se siga otra accion si **No se cumple la condicion**, por ejemplo si la comida esta lista, ponemos la mesa, sino seguimos viendo TV. La condicion es que la comida este lista, y si esta se cumple hay que poner la mesa, sino podemos seguir viendo TV.\n",
    "Para plantear una situacion como ésta debemos usar ``if``, tal cual como describimos anteriormente, y luego utilizar ``else``. ``Else`` tambien es una palabra clave reservada y la sintaxis que utiliza es igual a ``if``."
   ]
  },
  {
   "cell_type": "code",
   "execution_count": 8,
   "metadata": {},
   "outputs": [
    {
     "name": "stdout",
     "output_type": "stream",
     "text": [
      "Busca un gorro de lana\n"
     ]
    }
   ],
   "source": [
    "temp_afuera = 7\n",
    "if temp_afuera >= 10:\n",
    "        print(\"No hace falta usar gorro\")\n",
    "else:\n",
    "    print(\"Busca un gorro de lana\")"
   ]
  },
  {
   "cell_type": "markdown",
   "metadata": {},
   "source": [
    "**SENTENCIAS ``IF-ELSE`` ANIDADAS**\n",
    "\n",
    "Una condicion puede llevar a otra condicion, por ejemplo en el ejemplo anterior, si la temperatura afuera es mayor o gual a 10°C no hace falta un gorro, pero si hay viento deberíamos usar una bufanda, sino hay viento, no hace falta ni gorro ni bufanda, y si la temperatura es menor a 10°C entonces sí hace falta un gorro, y si hay viento de nuevo necesitamos una bufanda.\n",
    "Al tener dos condiciones podemos entonces generar sentencias ``if-else`` anidadas."
   ]
  },
  {
   "cell_type": "code",
   "execution_count": 11,
   "metadata": {},
   "outputs": [
    {
     "name": "stdout",
     "output_type": "stream",
     "text": [
      "No hace falta gorro pero sí bufanda\n"
     ]
    }
   ],
   "source": [
    "temp_afuera = 11\n",
    "viento = 31\n",
    "if temp_afuera >= 10:\n",
    "    if viento >= 30:\n",
    "        print(\"No hace falta gorro pero sí bufanda\")\n",
    "    else:\n",
    "        print(\"No hace falta gorro pero sí bufanda\")\n",
    "else:\n",
    "    if viento >= 30:\n",
    "        print(\"Hay que usar gorro y bufanda\")\n",
    "    else:\n",
    "        print(\"Hay que usar gorro pero no hace falta bufanda\")"
   ]
  },
  {
   "cell_type": "markdown",
   "metadata": {},
   "source": [
    "Vemos que no hace tanto frio porque la temperatura es mayor a 10°C pero el viento es mayor a 30k/h por lo que sí es necesario usar bufanda. Cambiando los valores de entrada se pueden obtener distintas respuestas.\n",
    "\n",
    "**SENTENCIA ``ELIF``**\n",
    "Otra caso especial para expresar condicionales es la sentencia ``elif``, ésta tambien es una palabra clave reservada de python y es una mezcla entre if y else. Vimos recien que se pueden anidar condiciones, pero solo podíamos plantar dos condiciones, con éste nuevo operador podemos anidar más de dos condciciones y detenerno recien cuando se cumple la condicion verdadera.\n",
    "La sintaxis es similar a las anteriores:"
   ]
  },
  {
   "cell_type": "code",
   "execution_count": 14,
   "metadata": {},
   "outputs": [
    {
     "name": "stdout",
     "output_type": "stream",
     "text": [
      "No hace falta gorro ni bufanda pero sí paragüas\n"
     ]
    }
   ],
   "source": [
    "temp_afuera = 11\n",
    "viento = 29\n",
    "lluvia = \"si\"\n",
    "if temp_afuera >= 10:\n",
    "    if viento >= 30:\n",
    "        print(\"No hace falta gorro pero sí bufanda\")\n",
    "    elif lluvia == \"si\" and temp_afuera >= 10 and viento < 30:\n",
    "        print(\"No hace falta gorro ni bufanda pero sí paragüas\")\n",
    "    else:\n",
    "        print(\"No hace falta gorro pero sí bufanda\")\n",
    "else:\n",
    "    if viento >= 30:\n",
    "        print(\"Hay que usar gorro y bufanda\")\n",
    "    elif lluvia == \"si\":\n",
    "        print(\"Hay que usar gorro y paragüas\")\n",
    "    else:\n",
    "        print(\"Hay que usar gorro pero no hace falta bufanda\")"
   ]
  },
  {
   "cell_type": "markdown",
   "metadata": {},
   "source": [
    "Algunas cosas a tener en cuenta es que ``Else`` siempre va al final, y no lo podemos usar si no hay un ``if`` antes."
   ]
  },
  {
   "cell_type": "markdown",
   "metadata": {},
   "source": [
    "## **BUCLES**\n",
    "Un Bucle es basicamente la ejecucion indefinida de un código hasta que se cumpla una condicion, el código itera sobre valores y hasta no encontrar alque que cumple con la condicion que buscamos no deja de ejecutarse una y otra vez.\n",
    "\n",
    "**BUCLE WHILE**\n",
    "\n",
    "En python, un bucle se puede representar de la siguiente manera:\n",
    "\n",
    "``while``\n",
    "\n",
    "       ``instruction``\n",
    "       \n",
    "La sintaxis que utiliza un bucle es muy similar a la de ``if``, pero en semantica hay una gran diferencia, ``if`` realiza una accion **una única vez** cuando se cumple la condicion, mientras que ``while`` repite la ejecucion siempre y cuando la condicion se evalue como verdadera.\n",
    "Los bucles ``while`` se ven algo así:\n",
    "\n",
    "``while onditional_expression:``\n",
    "\n",
    "        ``ìnstruction1``\n",
    "\n",
    "        ``instruction2``\n",
    "\n",
    "        :\n",
    "\n",
    "        :\n",
    "\n",
    "        ``instructionn``\n",
    "\n",
    "Todas las instrucciones ejecutadas dentro del bucle (que contienen sangria) se denominan \"cuerpo del bucle\". Si la condicion que se especifica al principio es falsa, no se ejecuta ninguna instruccion del cuerpo del bucle, y algo muy importante es que dentro del cuerpo del bucle debe haber alguna accion que **cambie el valor de la condicion**, si ésto no ocurre el bucle podría ejecutarse hasta el infinito.\n",
    "\n",
    "Un **BUCLE INFINITO** tiene ésta pinta:\n",
    "``while True:``\n",
    "        ``print(\"estoy atrapado en este bucle\")``\n",
    "Este bucle imprimira infinitamente \"estoy atrapado en este bucle\" en la consola.\n",
    "Para evitar bucles infinitos, como mencionamos debemos darle algo al bucle que frene la ejecucion, cambiando la condicion del inicio de True a False. Para ésto usamos los condicionales que aprendimos ``if, else, elif``."
   ]
  },
  {
   "cell_type": "code",
   "execution_count": 8,
   "metadata": {},
   "outputs": [
    {
     "name": "stdout",
     "output_type": "stream",
     "text": [
      "Conteo de números impares: 0\n",
      "Conteo de números pares: 0\n"
     ]
    }
   ],
   "source": [
    "# Un programa que lee una secuencia de números\n",
    "# y cuenta cuántos números son pares y cuántos son impares.\n",
    "# El programa termina cuando se ingresa un cero.\n",
    "\n",
    "odd_numbers = 0\n",
    "even_numbers = 0\n",
    "\n",
    "# Lee el primer número.\n",
    "number = int(input(\"Introduce un número o escribe 0 para detener: \"))\n",
    "\n",
    "# 0 termina la ejecución.\n",
    "while number != 0:\n",
    "    # Verificar si el número es impar.\n",
    "    if number % 2 == 1:\n",
    "        # Incrementar el contador de números impares odd_numbers.\n",
    "        odd_numbers += 1\n",
    "    else:\n",
    "        # Incrementar el contador de números pares even_numbers.\n",
    "        even_numbers += 1\n",
    "    # Leer el siguiente número.\n",
    "    number = int(input(\"Introduce un número o escribe 0 para detener: \"))\n",
    "\n",
    "# Imprimir resultados.\n",
    "print(\"Conteo de números impares:\", odd_numbers)\n",
    "print(\"Conteo de números pares:\", even_numbers)\n",
    "\n"
   ]
  },
  {
   "cell_type": "markdown",
   "metadata": {},
   "source": [
    "El bucle de arriba primero verifica que se cumpla con la condicion que ``number != 0``, si se cumple se ingresa al bucle, sino se sale y se siguen ejecutando las lineas siguientes.\n",
    "Una vez dentro del bucle planteamos condicionales, como queremos diferenciar entre números pares e impares usamos ``if`` y ``else``, y se ejecuta la ultima linea donde le pide ingresar un número de nuevo, ésta última linea se va a ejecutar cada vez que se ingrese un número distinto a 0, porque ya estamos dentro del bucle y la única forma de salir es ingresando 0, es decir la forma de \"salir del bucle\" se plantea desde el principio, y para cambiar la condicion de True a Flase se utiliza la última linea de código.\n",
    "Una vez fuera del bucle simplemente se ejecutan las lineas siguientes."
   ]
  },
  {
   "cell_type": "markdown",
   "metadata": {},
   "source": [
    "**BUCLE FOR**\n",
    "\n",
    "Otra forma de crear un bucle es utilizando el **bucle for**, este puede explorar grandes colecciones de datos elemento por elemento (iterando), pero empecemos de forma sencilla.\n",
    "Un bucle for va a tener ésta pinta:\n",
    "\n",
    "``for i in range(100)``\n",
    "\n",
    "        ``do_something()``\n",
    "\n",
    "        ``pass``\n",
    "\n",
    "Veamos las diferencia con el bucle while:\n",
    "- No hay condicion: ``for`` abre el bucle pero no se establece ninguna condicion para cerrarlo como en while.\n",
    "- Cualquier palabra despues de ``for`` es una **variable de control**, es muy comun nombrar a esta variable como ``i``.\n",
    "- Luego de la variable de control se introduce el rango de valores que puede tomar la variable de control, y se utiliza la palabra clave reservada ``in``.\n",
    "- se establace el rango de valores que va a tomar la variable controlada: es muy comun utilizar la funcion integrada **range()**, que crea una lista de valores de un rango establecido, por ejmplo ``range(10)`` crea una lista desde el 0 al 9. Mas adelante vermos que se pueden utilizar listas o tuplas para iterar.\n",
    "\n",
    "Una vez que tengamos todos estos elementos podemos ingresar al bucle, alli le especificamos que instruccion seguir y el bucle ejecutara esta tomando todos los valores posibles para ``i``, veamoslo con un ejemplo:"
   ]
  },
  {
   "cell_type": "code",
   "execution_count": 12,
   "metadata": {},
   "outputs": [
    {
     "name": "stdout",
     "output_type": "stream",
     "text": [
      "El valor de i es 0\n",
      "El valor de i es 1\n",
      "El valor de i es 2\n",
      "El valor de i es 3\n",
      "El valor de i es 4\n",
      "El valor de i es 5\n",
      "El valor de i es 6\n",
      "El valor de i es 7\n",
      "El valor de i es 8\n",
      "El valor de i es 9\n",
      "9\n"
     ]
    }
   ],
   "source": [
    "for i in range(10):\n",
    "    print(\"El valor de i es\", i)\n",
    "print(i)"
   ]
  },
  {
   "cell_type": "markdown",
   "metadata": {},
   "source": [
    "La instruccion, que es que se imprima el valor de i, se ejecuta 10 veces, porque ese es el numero de veces que ``i`` toma un valor distinto, en este caso en un rango del 0 al 9. El valor final de ``i`` será el ultimo que tomo (9). Recordemos que la funcion *range()* puede recibir mas de un argumento indicandole desde que numero tomar hasta cual, por ej. **range(2, 8)** toma desde el 2 inclusive hasta el 7 inclusive, es decir el segundo numero marca el limite.\n",
    "Tambien se le puede indicar que vaya de 2 en 2, de 3 en 3, y así sucesivamente agregando un 3er argumento, por ej. **range(2, 8, 3)** toma desde el 2 hasta el 8 y va de 3 en tres, por lo tanto los valores dentro de esta funcion pueden ser 2 y 5 (**2**, 3, 4, **5**, 6, 7).\n",
    "Notar que la funcion range() siempre va en **orden ascendente**, por lo que no podemos darle los argumento (8, 2)"
   ]
  },
  {
   "cell_type": "code",
   "execution_count": 14,
   "metadata": {},
   "outputs": [
    {
     "name": "stdout",
     "output_type": "stream",
     "text": [
      "1 Mississippi\n",
      "2 Mississippi\n",
      "3 Mississippi\n",
      "4 Mississippi\n",
      "5 Mississippi\n",
      "Listos o no aqui voy!\n"
     ]
    }
   ],
   "source": [
    "import time\n",
    "\n",
    "for i in range(5):\n",
    "    print(f\"{i+1} Mississippi\")\n",
    "    time.sleep(1)\n",
    "print(\"Listos o no aqui voy!\")"
   ]
  },
  {
   "cell_type": "markdown",
   "metadata": {},
   "source": [
    "**SENTENCIAS ``break`` Y ``continue``**\n",
    "En ocasiones es necesario salir del bucle, incluso si se cumple la condicion, y otras veces, al contrario, debemos seguir ejecutandolo aunque no se cumpla la condicion, para ésto podemos usar las sentencias ``break`` y ``continue`` respectivamente.\n",
    "``Break`` sale inmediatamente del bucle, finaliza la accion del mismo y el programa sigue ejecutando otras instrucciones.\n",
    "``Continue`` se comporta como si el programa hubiera llegado repentinamente al final del cuerpo, iniciando el siguiente turno, es decir se usa para omitir el valor actual y avanzar a la siguiente iteracion.\n",
    "\n",
    "Ambas son palabras reservadas, y para ejecutarse deben recibir un **condicional**, es decir le debemos decir al programa \"si ésto se cumple, sali del bucle (``break``), o segui ejecutando (``continue``)\" veamos un ejemplo para entender mejor.\n",
    "\n"
   ]
  },
  {
   "cell_type": "code",
   "execution_count": 1,
   "metadata": {},
   "outputs": [
    {
     "name": "stdout",
     "output_type": "stream",
     "text": [
      "La instrucción break:\n",
      "Dentro del bucle. 1\n",
      "Dentro del bucle. 2\n",
      "Fuera del bucle.\n",
      "\n",
      "La instrucción continue:\n",
      "Dentro del bucle. 1\n",
      "Dentro del bucle. 2\n",
      "Dentro del bucle. 4\n",
      "Dentro del bucle. 5\n",
      "Fuera del bucle.\n"
     ]
    }
   ],
   "source": [
    "print(\"La instrucción break:\")\n",
    "for i in range(1, 6):\n",
    "    if i == 3:\n",
    "        break\n",
    "    print(\"Dentro del bucle.\", i)\n",
    "print(\"Fuera del bucle.\")\n",
    "\n",
    "\n",
    "# continue - ejemplo\n",
    "\n",
    "print(\"\\nLa instrucción continue:\")\n",
    "for i in range(1, 6):\n",
    "    if i == 3:\n",
    "        continue\n",
    "    print(\"Dentro del bucle.\", i)\n",
    "print(\"Fuera del bucle.\")"
   ]
  },
  {
   "cell_type": "markdown",
   "metadata": {},
   "source": [
    "Vemos como en el primer bucle, cuando la variable controlada se vuelve 3, el bucle se rompe, mientras que en el segundo, cuando la variable controlada se vuelve 3 continuamos.\n",
    "Esto puede ser útil para cuando querramos iterar en una base de datos y queremos saltearnos algunos valores, en ese caso usamos ``continue``, o si queremos iterar hasta un valor determinado y salir, usamos ``break``"
   ]
  },
  {
   "cell_type": "code",
   "execution_count": 3,
   "metadata": {},
   "outputs": [
    {
     "name": "stdout",
     "output_type": "stream",
     "text": [
      "el doble de los primeros 5 numeros es: 2\n",
      "el doble de los primeros 5 numeros es: 4\n",
      "el doble de los primeros 5 numeros es: 6\n",
      "el doble de los primeros 5 numeros es: 8\n",
      "el doble de los primeros 5 numeros es: 10\n",
      "el doble de los numeros NO primos es: 2\n",
      "el doble de los numeros NO primos es: 4\n",
      "el doble de los numeros NO primos es: 6\n",
      "el doble de los numeros NO primos es: 8\n",
      "el doble de los numeros NO primos es: 10\n",
      "el doble de los numeros NO primos es: 12\n",
      "el doble de los numeros NO primos es: 16\n",
      "el doble de los numeros NO primos es: 18\n",
      "el doble de los numeros NO primos es: 20\n",
      "el doble de los numeros NO primos es: 22\n",
      "el doble de los numeros NO primos es: 24\n"
     ]
    }
   ],
   "source": [
    "list = [1, 2, 3, 4, 5, 6, 7, 8, 9, 10, 11, 12]\n",
    "\n",
    "for i in list:\n",
    "    if i == 6:\n",
    "        break\n",
    "    print(f\"el doble de los primeros 5 numeros es: {i*2}\")\n",
    "\n",
    "for i in list:\n",
    "    if i ==7:\n",
    "        continue\n",
    "    print(f\"el doble de los numeros NO primos es: {2*i}\")"
   ]
  },
  {
   "cell_type": "markdown",
   "metadata": {},
   "source": [
    "Es importante aclarar que estas dos sentencias se pueden utilizar en cualquier tipo de bucle, es bastante utilizado en bucles ``for`` pero tranquilamente lo podemos utilizar en un bucle ``while``:"
   ]
  },
  {
   "cell_type": "code",
   "execution_count": 1,
   "metadata": {},
   "outputs": [
    {
     "name": "stdout",
     "output_type": "stream",
     "text": [
      "has dejado el bucle con exito\n"
     ]
    }
   ],
   "source": [
    "palabra = input(\"\"\"ingrese cualquier palabra o \"chupacabra\" para salir\"\"\")\n",
    "\n",
    "while palabra != \"chupacabra\":\n",
    "    palabra = input(\"\"\"ingrese cualquier palabra o \"chupacabra\" para salir\"\"\")\n",
    "    if palabra == \"chupacabra\":\n",
    "        print(\"has dejado el bucle con exito\")\n",
    "        break"
   ]
  },
  {
   "cell_type": "markdown",
   "metadata": {},
   "source": [
    "**BUCLES Y RAMA ``ELSE``**\n",
    "Ambos bucles pueden hacer uso de la rama ``else``, recordemos que la utilizabamos para condicionales, pero tambien se puede aplicar a bucles de una forma muy similar a los condicionales, recordemos que ``else`` debia esta predecedido siempre por un condicional, es decir no lo podíamos usar solo, de forma que si lo utilizamos con un bucle este funcional como un condicional.\n",
    "La rama ``else`` siempre se ejecuta una vez independientemente de si el bucle ha entrado o no a su cuerpo.\n",
    "Vemos un ejemplo para cada cas:"
   ]
  },
  {
   "cell_type": "code",
   "execution_count": 11,
   "metadata": {},
   "outputs": [
    {
     "name": "stdout",
     "output_type": "stream",
     "text": [
      "1\n",
      "2\n",
      "3\n",
      "4\n",
      "else: 5\n"
     ]
    }
   ],
   "source": [
    "i = 1\n",
    "while i < 5:\n",
    "    print(i)\n",
    "    i += 1\n",
    "else:\n",
    "    print(\"else:\", i)"
   ]
  },
  {
   "cell_type": "code",
   "execution_count": 3,
   "metadata": {},
   "outputs": [
    {
     "name": "stdout",
     "output_type": "stream",
     "text": [
      "0\n",
      "1\n",
      "2\n",
      "3\n",
      "4\n",
      "else: 4\n"
     ]
    }
   ],
   "source": [
    "for i in range(5):\n",
    "    print(i)\n",
    "else:\n",
    "    print(\"else:\", i)"
   ]
  },
  {
   "cell_type": "markdown",
   "metadata": {},
   "source": [
    "En el primer bucle donde se utiliza ``while`` se plantea la condicion de que **i < 5**, si esto se cumple se ingresa al bucle y dentro de éste recibe dos instrucciones, una es imprimir el valor de i, y otra esaumentar el valor de i en una unidad (``i += 1``), una vez que i alcanza una valor mayor a 5, el programa sale del bucle y se ejecuta la rama ``else``.\n",
    "En el segundo bucle le damos a la variable de control una rango de 5 (de 0 a 4), la instruccion de imprimir cada valor del rango, y cuando termina de iterar se ejecuta la rama ``else``.\n",
    "\n",
    "<span style=\"color: red;\"> notar que en los bucles ``while`` se debe definir la variable que se va a utilizar antes de crear el bucle, mientras que los bucles ``for`` crean la variable ellos mismos</span> es más, si en un bucle ``for`` se asigna el valor de la variable antes de crear el bucle éste no se va a ejecutar. "
   ]
  },
  {
   "cell_type": "code",
   "execution_count": 15,
   "metadata": {},
   "outputs": [
    {
     "name": "stdout",
     "output_type": "stream",
     "text": [
      "La altura de la pirámide es: 0\n"
     ]
    }
   ],
   "source": [
    "blocks = int(input(\"Ingrese el número total de bloques: \"))\n",
    "\n",
    "altura = 0  # Altura de la pirámide\n",
    "capa = 1    # Número de bloques requeridos para la siguiente capa\n",
    "\n",
    "while blocks >= capa:  # Mientras haya suficientes bloques para la capa actual\n",
    "    blocks -= capa     # Resta los bloques usados por la capa actual\n",
    "    altura += 1        # Incrementa la altura de la pirámide\n",
    "    capa += 1          # Aumenta el número de bloques requeridos para la siguiente capa\n",
    "\n",
    "print(f\"La altura de la pirámide es: {altura}\")"
   ]
  }
 ],
 "metadata": {
  "kernelspec": {
   "display_name": "Python 3",
   "language": "python",
   "name": "python3"
  },
  "language_info": {
   "codemirror_mode": {
    "name": "ipython",
    "version": 3
   },
   "file_extension": ".py",
   "mimetype": "text/x-python",
   "name": "python",
   "nbconvert_exporter": "python",
   "pygments_lexer": "ipython3",
   "version": "3.12.5"
  }
 },
 "nbformat": 4,
 "nbformat_minor": 2
}
