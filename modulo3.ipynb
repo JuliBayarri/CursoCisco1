{
 "cells": [
  {
   "cell_type": "markdown",
   "metadata": {},
   "source": [
    "**OPERADORES**\n",
    "\n",
    "**IGUALDAD:** el operador igual a (==)\n",
    "Este operador compara los valores de dos operandos y responde a la pregunta \"¿son iguales? o ¿valen lo mismo?\", se pueden comparar valores numéricos, variables con algun valor asignado, valors no numéricos, etc. Tambien se puede utilizar como condicional, es decir establacer una condicion.\n",
    "\n",
    "**DESIGUALDAD:** el operador no igual a (!=)\n",
    "Este operador tambein compara valores, la diferencia es que si son iguales el resultado de la pregunta será ´´False´´, y si no son iguales el resultado de la comparacion será ´´True´´."
   ]
  },
  {
   "cell_type": "code",
   "execution_count": 3,
   "metadata": {},
   "outputs": [
    {
     "data": {
      "text/plain": [
       "False"
      ]
     },
     "execution_count": 3,
     "metadata": {},
     "output_type": "execute_result"
    }
   ],
   "source": [
    "var1 = 0\n",
    "var1 != 0"
   ]
  },
  {
   "cell_type": "markdown",
   "metadata": {},
   "source": [
    "**OPERADORES DE COMPARACION: MAYOR Y MENOR**\n",
    "Al igual que la igualdad, se puede preguntar si un valor de igual o menor a otro, utilizando los operaodres **> <**. La respuesta tambien será ´´True´´ o ´´False´´ segun corresponda. "
   ]
  }
 ],
 "metadata": {
  "kernelspec": {
   "display_name": "Python 3",
   "language": "python",
   "name": "python3"
  },
  "language_info": {
   "codemirror_mode": {
    "name": "ipython",
    "version": 3
   },
   "file_extension": ".py",
   "mimetype": "text/x-python",
   "name": "python",
   "nbconvert_exporter": "python",
   "pygments_lexer": "ipython3",
   "version": "3.12.5"
  }
 },
 "nbformat": 4,
 "nbformat_minor": 2
}
