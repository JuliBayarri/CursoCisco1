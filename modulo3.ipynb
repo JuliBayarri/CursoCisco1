{
 "cells": [
  {
   "cell_type": "markdown",
   "metadata": {},
   "source": [
    "## **OPERADORES**\n",
    "\n",
    "**IGUALDAD:** el operador igual a (==)\n",
    "Este operador compara los valores de dos operandos y responde a la pregunta \"¿son iguales? o ¿valen lo mismo?\", se pueden comparar valores numéricos, variables con algun valor asignado, valors no numéricos, etc. Tambien se puede utilizar como condicional, es decir establacer una condicion.\n",
    "\n",
    "**DESIGUALDAD:** el operador no igual a (!=)\n",
    "Este operador tambein compara valores, la diferencia es que si son iguales el resultado de la pregunta será ``False``, y si no son iguales el resultado de la comparacion será ``True``."
   ]
  },
  {
   "cell_type": "code",
   "execution_count": 3,
   "metadata": {},
   "outputs": [
    {
     "data": {
      "text/plain": [
       "False"
      ]
     },
     "execution_count": 3,
     "metadata": {},
     "output_type": "execute_result"
    }
   ],
   "source": [
    "var1 = 0\n",
    "var1 != 0"
   ]
  },
  {
   "cell_type": "markdown",
   "metadata": {},
   "source": [
    "**OPERADORES DE COMPARACION: MAYOR, MENOR, MAYOR O IGUAL QUE**\n",
    "Al igual que la igualdad, se puede preguntar si un valor de igual o menor a otro, utilizando los operaodres ``> <``. La respuesta tambien será ``True`` o ``False`` segun corresponda. \n",
    "El operador *mayor que* tiene otra variante especial que es *mayor o gual que* y se denota como ``>=``.\n",
    "Al igual que los operadores de igualdad y desigualdad, son operadores binarios que tienen un enlazado izquierdo y otro derecho.\n",
    "Tambien pueden marcar una condicion, por ejemplo si la temperatura afuera es muy baja debería ponerme un gorro de lana, para expresar ésta condicion podemos usar entonces ``temp_afuera >= 0``."
   ]
  },
  {
   "cell_type": "code",
   "execution_count": 4,
   "metadata": {},
   "outputs": [
    {
     "name": "stdout",
     "output_type": "stream",
     "text": [
      "no hace falta gorro\n"
     ]
    }
   ],
   "source": [
    "temp_afuera = 10\n",
    "if temp_afuera >= 10:\n",
    "    print(\"no hace falta gorro\")"
   ]
  },
  {
   "cell_type": "markdown",
   "metadata": {},
   "source": [
    "**USO DE RESPUESTAS**\n",
    "\n",
    "Se pueden utilizar las respuestas (``True`` y ``False``) de éstos operadores para de distintas maneras, una es almacenandolas en una variable. Otra forma, es como mostramos antes, es para poder tomar una decision, en el codigo anterior la decision que se debía tomar era si usar o no un gorro, a éste tipo de condiciones las veremos enseguida. "
   ]
  },
  {
   "cell_type": "code",
   "execution_count": 5,
   "metadata": {},
   "outputs": [
    {
     "name": "stdout",
     "output_type": "stream",
     "text": [
      "True\n"
     ]
    }
   ],
   "source": [
    "n = int(input(\"Ingresa un número: \"))\n",
    "print(n >= 100)"
   ]
  },
  {
   "cell_type": "markdown",
   "metadata": {},
   "source": [
    "## **CONDICIONES Y EJECUCION CONDICIONAL**\n",
    "En programacion es pocible establacer condiciones, es decir que una accion se cumpla solo si se cumple una determinada condicion, para esto se usan los operadores que venimos viemdo.\n",
    "Para establacer una condicion usamos una **palabra clave reservada** ques es ``if``, seguida de un espacio y una **expresion** cuyo valor se interpreta únicamente en terminos de True o False, finalmente dos puntos y en la linea de abajo, luego de sangría, se especifica la accion.\n",
    "Se pueden mandar tantas acciones como sea necesario pero todas se cumplicar solo cuando se cumpla la condicion y deben estar antecedidas de sangría.\n",
    "\n",
    "Ahora bien, podemos establacer que se siga otra accion si **No se cumple la condicion**, por ejemplo si la comida esta lista, ponemos la mesa, sino seguimos viendo TV. La condicion es que la comida este lista, y si esta se cumple hay que poner la mesa, sino podemos seguir viendo TV.\n",
    "Para plantear una situacion como ésta debemos usar ``if``, tal cual como describimos anteriormente, y luego utilizar ``else``. ``Else`` tambien es una palabra clave reservada y la sintaxis que utiliza es igual a ``if``."
   ]
  },
  {
   "cell_type": "code",
   "execution_count": 8,
   "metadata": {},
   "outputs": [
    {
     "name": "stdout",
     "output_type": "stream",
     "text": [
      "Busca un gorro de lana\n"
     ]
    }
   ],
   "source": [
    "temp_afuera = 7\n",
    "if temp_afuera >= 10:\n",
    "        print(\"No hace falta usar gorro\")\n",
    "else:\n",
    "    print(\"Busca un gorro de lana\")"
   ]
  },
  {
   "cell_type": "markdown",
   "metadata": {},
   "source": [
    "**SENTENCIAS ``IF-ELSE`` ANIDADAS**\n",
    "\n",
    "Una condicion puede llevar a otra condicion, por ejemplo en el ejemplo anterior, si la temperatura afuera es mayor o gual a 10°C no hace falta un gorro, pero si hay viento deberíamos usar una bufanda, sino hay viento, no hace falta ni gorro ni bufanda, y si la temperatura es menor a 10°C entonces sí hace falta un gorro, y si hay viento de nuevo necesitamos una bufanda.\n",
    "Al tener dos condiciones podemos entonces generar sentencias ``if-else`` anidadas."
   ]
  },
  {
   "cell_type": "code",
   "execution_count": 11,
   "metadata": {},
   "outputs": [
    {
     "name": "stdout",
     "output_type": "stream",
     "text": [
      "No hace falta gorro pero sí bufanda\n"
     ]
    }
   ],
   "source": [
    "temp_afuera = 11\n",
    "viento = 31\n",
    "if temp_afuera >= 10:\n",
    "    if viento >= 30:\n",
    "        print(\"No hace falta gorro pero sí bufanda\")\n",
    "    else:\n",
    "        print(\"No hace falta gorro pero sí bufanda\")\n",
    "else:\n",
    "    if viento >= 30:\n",
    "        print(\"Hay que usar gorro y bufanda\")\n",
    "    else:\n",
    "        print(\"Hay que usar gorro pero no hace falta bufanda\")"
   ]
  },
  {
   "cell_type": "markdown",
   "metadata": {},
   "source": [
    "Vemos que no hace tanto frio porque la temperatura es mayor a 10°C pero el viento es mayor a 30k/h por lo que sí es necesario usar bufanda. Cambiando los valores de entrada se pueden obtener distintas respuestas.\n",
    "\n",
    "**SENTENCIA ``ELIF``**\n",
    "Otra caso especial para expresar condicionales es la sentencia ``elif``, ésta tambien es una palabra clave reservada de python y es una mezcla entre if y else. Vimos recien que se pueden anidar condiciones, pero solo podíamos plantar dos condiciones, con éste nuevo operador podemos anidar más de dos condciciones y detenerno recien cuando se cumple la condicion verdadera.\n",
    "La sintaxis es similar a las anteriores:"
   ]
  },
  {
   "cell_type": "code",
   "execution_count": 14,
   "metadata": {},
   "outputs": [
    {
     "name": "stdout",
     "output_type": "stream",
     "text": [
      "No hace falta gorro ni bufanda pero sí paragüas\n"
     ]
    }
   ],
   "source": [
    "temp_afuera = 11\n",
    "viento = 29\n",
    "lluvia = \"si\"\n",
    "if temp_afuera >= 10:\n",
    "    if viento >= 30:\n",
    "        print(\"No hace falta gorro pero sí bufanda\")\n",
    "    elif lluvia == \"si\" and temp_afuera >= 10 and viento < 30:\n",
    "        print(\"No hace falta gorro ni bufanda pero sí paragüas\")\n",
    "    else:\n",
    "        print(\"No hace falta gorro pero sí bufanda\")\n",
    "else:\n",
    "    if viento >= 30:\n",
    "        print(\"Hay que usar gorro y bufanda\")\n",
    "    elif lluvia == \"si\":\n",
    "        print(\"Hay que usar gorro y paragüas\")\n",
    "    else:\n",
    "        print(\"Hay que usar gorro pero no hace falta bufanda\")"
   ]
  },
  {
   "cell_type": "markdown",
   "metadata": {},
   "source": [
    "Algunas cosas a tener en cuenta es que ``Else`` siempre va al final, y no lo podemos usar si no hay un ``if`` antes."
   ]
  },
  {
   "cell_type": "markdown",
   "metadata": {},
   "source": [
    "## **BUCLES**\n",
    "Un Bucle es basicamente la ejecucion indefinida de un código hasta que se cumpla una condicion, el código itera sobre valores y hasta no encontrar alque que cumple con la condicion que buscamos no deja de ejecutarse una y otra vez.\n",
    "\n",
    "En python, un bucle se puede representar de la siguiente manera:\n",
    "``while``\n",
    "       ``instruction``\n",
    "La sintaxis que utiliza un bucle es muy similar a la de ``if``, pero en semantica hay una gran diferencia, ``if`` realiza una accion **una única vez** cuando se cumple la condicion, mientras que ``while`` repite la ejecucion siempre y cuando la condicion se evalue como verdadera.\n",
    "Los bucles ``while`` se ven algo así:\n",
    "\n",
    "``while onditional_expression:``\n",
    "        ``ìnstruction1``\n",
    "        ``instruction2``\n",
    "        :\n",
    "        :\n",
    "        ``instructionn``\n",
    "\n",
    "Todas las instrucciones ejecutadas dentro del bucle (que contienen sangria) se denominan \"cuerpo del bucle\". Si la condicion que se especifica al principio es falsa, no se ejecuta ninguna instruccion del cuerpo del bucle, y algo muy importante es que dentro del cuerpo del bucle debe haber alguna accion que **cambie el valor de la condicion**, si ésto no ocurre el bucle podría ejecutarse hasta el infinito.\n",
    "\n",
    "Un **BUCLE INFINITO** tiene ésta pinta:\n",
    "``while True:``\n",
    "        ``print(\"estoy atrapado en este bucle\")``\n",
    "Este bucle imprimira infinitamente \"estoy atrapado en este bucle\" en la consola.\n",
    "Para evitar bucles infinitos, como mencionamos debemos darle algo al bucle que frene la ejecucion, cambiando la condicion del inicio de True a False. Para ésto usamos los condicionales que aprendimos ``if, else, elif``."
   ]
  },
  {
   "cell_type": "code",
   "execution_count": 8,
   "metadata": {},
   "outputs": [
    {
     "name": "stdout",
     "output_type": "stream",
     "text": [
      "Conteo de números impares: 0\n",
      "Conteo de números pares: 0\n"
     ]
    }
   ],
   "source": [
    "# Un programa que lee una secuencia de números\n",
    "# y cuenta cuántos números son pares y cuántos son impares.\n",
    "# El programa termina cuando se ingresa un cero.\n",
    "\n",
    "odd_numbers = 0\n",
    "even_numbers = 0\n",
    "\n",
    "# Lee el primer número.\n",
    "number = int(input(\"Introduce un número o escribe 0 para detener: \"))\n",
    "\n",
    "# 0 termina la ejecución.\n",
    "while number != 0:\n",
    "    # Verificar si el número es impar.\n",
    "    if number % 2 == 1:\n",
    "        # Incrementar el contador de números impares odd_numbers.\n",
    "        odd_numbers += 1\n",
    "    else:\n",
    "        # Incrementar el contador de números pares even_numbers.\n",
    "        even_numbers += 1\n",
    "    # Leer el siguiente número.\n",
    "    number = int(input(\"Introduce un número o escribe 0 para detener: \"))\n",
    "\n",
    "# Imprimir resultados.\n",
    "print(\"Conteo de números impares:\", odd_numbers)\n",
    "print(\"Conteo de números pares:\", even_numbers)\n",
    "\n"
   ]
  },
  {
   "cell_type": "markdown",
   "metadata": {},
   "source": [
    "El bucle de arriba primero verifica que se cumpla con la condicion que ``number != 0``, si se cumple se ingresa al bucle, sino se sale y se siguen ejecutando las lineas siguientes.\n",
    "Una vez dentro del bucle planteamos condicionales, como queremos diferenciar entre números pares e impares usamos ``if`` y ``else``, y se ejecuta la ultima linea donde le pide ingresar un número de nuevo, ésta última linea se va a ejecutar cada vez que se ingrese un número distinto a 0, porque ya estamos dentro del bucle y la única forma de salir es ingresando 0, es decir la forma de \"salir del bucle\" se plantea desde el principio, y para cambiar la condicion de True a Flase se utiliza la última linea de código.\n",
    "Una vez fuera del bucle simplemente se ejecutan las lineas siguientes."
   ]
  }
 ],
 "metadata": {
  "kernelspec": {
   "display_name": "Python 3",
   "language": "python",
   "name": "python3"
  },
  "language_info": {
   "codemirror_mode": {
    "name": "ipython",
    "version": 3
   },
   "file_extension": ".py",
   "mimetype": "text/x-python",
   "name": "python",
   "nbconvert_exporter": "python",
   "pygments_lexer": "ipython3",
   "version": "3.12.5"
  }
 },
 "nbformat": 4,
 "nbformat_minor": 2
}
