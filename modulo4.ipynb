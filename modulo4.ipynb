{
 "cells": [
  {
   "cell_type": "markdown",
   "metadata": {},
   "source": [
    "## **FUNCIONES** \n",
    "\n",
    "Así es como se ve la definición más simple de una función:\n",
    "\n",
    "``def function_name():``\n",
    "\n",
    "   ``cuerpo de la función`` \n",
    " \n",
    "-Siempre comienza con la palabra reservada ``def`` (que significa definir)\n",
    "\n",
    "-Después de ``def`` va el nombre de la función (las reglas para darle nombre a las funciones son las mismas que para las variables)\n",
    "\n",
    "-Después del nombre de la función, hay un espacio para un par de paréntesis (ahora no contienen algo, pero eso cambiará pronto)\n",
    "\n",
    "-La línea debe de terminar con dos puntos;\n",
    "\n",
    "-La línea inmediatamente después de def marca el comienzo del cuerpo de la función - donde varias o (al menos una) instrucción anidada, será ejecutada cada vez que la función sea invocada; nota: la función termina donde el anidamiento termina, se debe ser cauteloso."
   ]
  },
  {
   "cell_type": "code",
   "execution_count": 1,
   "metadata": {},
   "outputs": [],
   "source": [
    "def message():\n",
    "    print(\"Ingresar valor: \")"
   ]
  },
  {
   "cell_type": "markdown",
   "metadata": {},
   "source": [
    "Cuando creamos una funcion python la lee y la recuerda pero no la ejecuta sin tu permiso, para decirle que la ejecute debemos *invocarla* con el nombre que le dimos."
   ]
  },
  {
   "cell_type": "code",
   "execution_count": 2,
   "metadata": {},
   "outputs": [
    {
     "name": "stdout",
     "output_type": "stream",
     "text": [
      "Ingresar valor: \n"
     ]
    }
   ],
   "source": [
    "message()"
   ]
  },
  {
   "cell_type": "markdown",
   "metadata": {},
   "source": [
    "Vemos que solo basta con escribir el nombre de la funcion para ejecutar todo su cuerpo!!\n",
    "\n",
    "**COMO FUNCIONAN LAS FUNCIONES**: cuando se invoca una función, Python recuerda el lugar donde esto ocurre y salta hacia dentro de la función invocada; el cuerpo de la función es entonces ejecutado; al llegar al final de la función, Python regresa al lugar inmediato después de donde ocurrió la invocación.\n",
    "\n",
    "Algunas cosas que es importante considerar es que las funciones deben tener nombres únicos, es decir no pueden existir variables con el nombre que una funcion o utilizar el nombre de una funcion integrada a python, tampoco podemos invocar una funcion antes de definirla, esto parace bastante intuitivo pero recordemos que python lee el código de arriba hacia abajo, por lo que si se realiza una modificacion en código previo a donde se encuentra la funcion definida el programa no la reconocerá. Al igual que las variables, si utilizamos el nombre de una funcion definida y le asignamos otro valor o definimos una nueva con el mismo nombre, python olvida su rol anterior quedando obsoleta."
   ]
  },
  {
   "cell_type": "markdown",
   "metadata": {},
   "source": [
    "**FUNCIONES PARAMETRIZADAS** Las funciones pueden recibir parámetros, los cuales la hacen más flexible y adaptable a distintas condiciones.\n",
    "Los parámetros que recibe una funcion son básicamente variables que solo existen dentro de la funcion, y se lo define entre los paréntesis de la funcion, el valor del parámetro o variable es definido en el momento en que se invoca la funcion.\n",
    "Las funciones pueden operar con más de un parámetro, pero vayamos de a poco, empecemos con funciones de un solo parámetro:"
   ]
  },
  {
   "cell_type": "code",
   "execution_count": 3,
   "metadata": {},
   "outputs": [
    {
     "name": "stdout",
     "output_type": "stream",
     "text": [
      "Ingresa un número: 9\n"
     ]
    }
   ],
   "source": [
    "def message(number):\n",
    "    print(\"Ingresa un número:\", number)\n",
    "\n",
    "message(9)"
   ]
  },
  {
   "cell_type": "markdown",
   "metadata": {},
   "source": [
    "En éste caso, ``number`` se le asigna el valor ``9``, cada vez que se invoque la funcion debemos darle un valor al parámetro, de no hacerlo, es decir invocando la funcion como ``message()`` nos dara un error.\n",
    "Es importante aclarar que, en el caso de los parámetros, si es posible tener una variable con el mismo nombre, ya que los parámetros son entidades completamente diferentes de variables definidas fuera de la funcion.\n",
    "\n",
    "Cada vez que invocamos entonces una funcion definimos el valor de cada parámetro, una funcion puede recibir tantos parámetros como deseemos, pero debemos tener en cuenta que mientras más parámetros se vuelve más dificil recordar el rol de cada uno, por lo que generalmente no se utilizan más de 3."
   ]
  },
  {
   "cell_type": "code",
   "execution_count": 4,
   "metadata": {},
   "outputs": [
    {
     "name": "stdout",
     "output_type": "stream",
     "text": [
      "Ingresa teléfono número 11\n",
      "Ingresa precio número 5\n",
      "Ingresa número número number\n"
     ]
    }
   ],
   "source": [
    "def message(what, number):\n",
    "    print(\"Ingresa\", what, \"número\", number)\n",
    "\n",
    "message(\"teléfono\", 11)\n",
    "message(\"precio\", 5)\n",
    "message(\"número\", \"number\")"
   ]
  },
  {
   "cell_type": "markdown",
   "metadata": {},
   "source": [
    "Cuando utizamos más de un parámetro la posicion que éstos ocupen es importante, ya que al invocar la funcion el valor que le demos a cada uno dependera de la posicion:"
   ]
  },
  {
   "cell_type": "code",
   "execution_count": 7,
   "metadata": {},
   "outputs": [
    {
     "name": "stdout",
     "output_type": "stream",
     "text": [
      "1 2 3\n"
     ]
    }
   ],
   "source": [
    "def my_function(a, b, c):\n",
    "    print(a, b, c)\n",
    "\n",
    "my_function(1, 2, 3)"
   ]
  },
  {
   "cell_type": "markdown",
   "metadata": {},
   "source": [
    "En éste caso ``a`` siepre va a tomar el valor de la primera posicion, ``b`` el de la segunda y ``c`` el de la tercera, y esta es una de las razones de por qué no se utilizan muchos parámetros cuando definimos funciones.\n",
    "\n",
    "Sin embargo Python ofrece otra manera de pasar argumentos, donde el valor del mismo está definido por su nombre y no por su posicion, a esto se lo denomna **paso de argumentos con palabra clave**"
   ]
  },
  {
   "cell_type": "code",
   "execution_count": 8,
   "metadata": {},
   "outputs": [
    {
     "name": "stdout",
     "output_type": "stream",
     "text": [
      "Hola, mi nombre es James Bond\n",
      "Hola, mi nombre es Luke Skywalker\n"
     ]
    }
   ],
   "source": [
    "def introduction(first_name, last_name):\n",
    "    print(\"Hola, mi nombre es\", first_name, last_name)\n",
    "\n",
    "introduction(first_name = \"James\", last_name = \"Bond\")\n",
    "introduction(last_name = \"Skywalker\", first_name = \"Luke\")"
   ]
  },
  {
   "cell_type": "markdown",
   "metadata": {},
   "source": [
    "Vemos que en la segunda invocacion no se sigue el orden de los parámetros tal y cual estan definidos en la funcion, pero al utilizar el operador ``=`` la posicion no es relevante y cada argumento conoce su destino con base en el nombre utilizado.\n",
    "\n",
    "Es posible combinar ambos tipos si se desea - solo hay una regla inquebrantable: se deben colocar primero los argumentos posicionales y después los de palabra clave."
   ]
  },
  {
   "cell_type": "code",
   "execution_count": 9,
   "metadata": {},
   "outputs": [
    {
     "name": "stdout",
     "output_type": "stream",
     "text": [
      "1 + 2 + 3 = 6\n",
      "2 + 3 + 1 = 6\n",
      "3 + 2 + 1 = 6\n"
     ]
    }
   ],
   "source": [
    "def adding(a, b, c):\n",
    "    print(a, \"+\", b, \"+\", c, \"=\", a + b + c)\n",
    "\n",
    "adding(1, 2, 3)\n",
    "adding(c = 1, a = 2, b = 3)\n",
    "adding(3, c = 1, b = 2)"
   ]
  },
  {
   "cell_type": "markdown",
   "metadata": {},
   "source": [
    "Aca podemos ver los tres casos, en la primera se definen los parámetros como posicionales, en la segunda con palabra clave, y en la tercera invocacion, el parámetro ``a`` se lo define como posicional mientras que ``b`` y ``c`` con palabra clave sin necesidad de coincidir la posicion. Cuando utilizamos metodos combinados debemos tener cuidado con no definir el mismo parámetro dos veces.\n",
    "\n",
    "Cuando definimos una funcion podemos entregarle un valor predeterminado a un parámetro, que en el caso de ser invocada y no definir el parámetro, éste tomara el valor predeterminado:"
   ]
  },
  {
   "cell_type": "code",
   "execution_count": null,
   "metadata": {},
   "outputs": [
    {
     "name": "stdout",
     "output_type": "stream",
     "text": [
      "Hola, mi nombre es Jorge Pérez\n",
      "Hola, mi nombre es Enrique Smith\n"
     ]
    }
   ],
   "source": [
    "def introduction(first_name, last_name=\"Gomez\"):\n",
    "     print(\"Hola, mi nombre es\", first_name, last_name)\n",
    "\n",
    "introduction(\"Jorge\", \"Pérez\")\n",
    "introduction(\"Enrique\")"
   ]
  },
  {
   "cell_type": "markdown",
   "metadata": {},
   "source": [
    "En esta funcion, el parámetro ``last_name`` es predefinido con el valor ``\"Gomez\"`` ya que es un apellido muy comun, la funcion entonces en el caso de no definir éste parámetro en la invocacion, como es el caso de ``Enrique``, le asigna de manera predeterminada el valor ``Gomez``. Así, aunque invoquemos la funcion con un solo parámetro no habra errores.\n",
    "\n",
    "Esto se puede hacer con cuantos parámetros sea necesario, no hay un limite para predefinir parámetros."
   ]
  },
  {
   "cell_type": "markdown",
   "metadata": {},
   "source": [
    "**INSTRUCCION *RETURN*** "
   ]
  }
 ],
 "metadata": {
  "kernelspec": {
   "display_name": "Python 3",
   "language": "python",
   "name": "python3"
  },
  "language_info": {
   "codemirror_mode": {
    "name": "ipython",
    "version": 3
   },
   "file_extension": ".py",
   "mimetype": "text/x-python",
   "name": "python",
   "nbconvert_exporter": "python",
   "pygments_lexer": "ipython3",
   "version": "3.12.5"
  }
 },
 "nbformat": 4,
 "nbformat_minor": 2
}
