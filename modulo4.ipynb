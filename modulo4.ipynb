{
 "cells": [
  {
   "cell_type": "markdown",
   "metadata": {},
   "source": [
    "## **FUNCIONES** \n",
    "\n",
    "Así es como se ve la definición más simple de una función:\n",
    "\n",
    "``def function_name():``\n",
    "\n",
    "   ``cuerpo de la función`` \n",
    " \n",
    "-Siempre comienza con la palabra reservada ``def`` (que significa definir)\n",
    "\n",
    "-Después de ``def`` va el nombre de la función (las reglas para darle nombre a las funciones son las mismas que para las variables)\n",
    "\n",
    "-Después del nombre de la función, hay un espacio para un par de paréntesis (ahora no contienen algo, pero eso cambiará pronto)\n",
    "\n",
    "-La línea debe de terminar con dos puntos;\n",
    "\n",
    "-La línea inmediatamente después de def marca el comienzo del cuerpo de la función - donde varias o (al menos una) instrucción anidada, será ejecutada cada vez que la función sea invocada; nota: la función termina donde el anidamiento termina, se debe ser cauteloso."
   ]
  },
  {
   "cell_type": "code",
   "execution_count": 1,
   "metadata": {},
   "outputs": [],
   "source": [
    "def message():\n",
    "    print(\"Ingresar valor: \")"
   ]
  },
  {
   "cell_type": "markdown",
   "metadata": {},
   "source": [
    "Cuando creamos una funcion python la lee y la recuerda pero no la ejecuta sin tu permiso, para decirle que la ejecute debemos *invocarla* con el nombre que le dimos."
   ]
  },
  {
   "cell_type": "code",
   "execution_count": 2,
   "metadata": {},
   "outputs": [
    {
     "name": "stdout",
     "output_type": "stream",
     "text": [
      "Ingresar valor: \n"
     ]
    }
   ],
   "source": [
    "message()"
   ]
  },
  {
   "cell_type": "markdown",
   "metadata": {},
   "source": [
    "Vemos que solo basta con escribir el nombre de la funcion para ejecutar todo su cuerpo!!\n",
    "\n",
    "**COMO FUNCIONAN LAS FUNCIONES**: cuando se invoca una función, Python recuerda el lugar donde esto ocurre y salta hacia dentro de la función invocada; el cuerpo de la función es entonces ejecutado; al llegar al final de la función, Python regresa al lugar inmediato después de donde ocurrió la invocación.\n",
    "\n",
    "Algunas cosas que es importante considerar es que las funciones deben tener nombres únicos, es decir no pueden existir variables con el nombre que una funcion o utilizar el nombre de una funcion integrada a python, tampoco podemos invocar una funcion antes de definirla, esto parace bastante intuitivo pero recordemos que python lee el código de arriba hacia abajo, por lo que si se realiza una modificacion en código previo a donde se encuentra la funcion definida el programa no la reconocerá. Al igual que las variables, si utilizamos el nombre de una funcion definida y le asignamos otro valor o definimos una nueva con el mismo nombre, python olvida su rol anterior quedando obsoleta."
   ]
  },
  {
   "cell_type": "markdown",
   "metadata": {},
   "source": [
    "**FUNCIONES PARAMETRIZADAS** Las funciones pueden recibir parámetros, los cuales la hacen más flexible y adaptable a distintas condiciones.\n",
    "Los parámetros que recibe una funcion son básicamente variables que solo existen dentro de la funcion, y se lo define entre los paréntesis de la funcion, el valor del parámetro o variable es definido en el momento en que se invoca la funcion.\n",
    "Las funciones pueden operar con más de un parámetro, pero vayamos de a poco, empecemos con funciones de un solo parámetro:"
   ]
  },
  {
   "cell_type": "code",
   "execution_count": 3,
   "metadata": {},
   "outputs": [
    {
     "name": "stdout",
     "output_type": "stream",
     "text": [
      "Ingresa un número: 9\n"
     ]
    }
   ],
   "source": [
    "def message(number):\n",
    "    print(\"Ingresa un número:\", number)\n",
    "\n",
    "message(9)"
   ]
  },
  {
   "cell_type": "markdown",
   "metadata": {},
   "source": [
    "En éste caso, ``number`` se le asigna el valor ``9``, cada vez que se invoque la funcion debemos darle un valor al parámetro, de no hacerlo, es decir invocando la funcion como ``message()`` nos dara un error.\n",
    "Es importante aclarar que, en el caso de los parámetros, si es posible tener una variable con el mismo nombre, ya que los parámetros son entidades completamente diferentes de variables definidas fuera de la funcion.\n",
    "\n",
    "Cada vez que invocamos entonces una funcion definimos el valor de cada parámetro, una funcion puede recibir tantos parámetros como deseemos, pero debemos tener en cuenta que mientras más parámetros se vuelve más dificil recordar el rol de cada uno, por lo que generalmente no se utilizan más de 3."
   ]
  },
  {
   "cell_type": "code",
   "execution_count": 4,
   "metadata": {},
   "outputs": [
    {
     "name": "stdout",
     "output_type": "stream",
     "text": [
      "Ingresa teléfono número 11\n",
      "Ingresa precio número 5\n",
      "Ingresa número número number\n"
     ]
    }
   ],
   "source": [
    "def message(what, number):\n",
    "    print(\"Ingresa\", what, \"número\", number)\n",
    "\n",
    "message(\"teléfono\", 11)\n",
    "message(\"precio\", 5)\n",
    "message(\"número\", \"number\")"
   ]
  },
  {
   "cell_type": "markdown",
   "metadata": {},
   "source": [
    "Cuando utizamos más de un parámetro la posicion que éstos ocupen es importante, ya que al invocar la funcion el valor que le demos a cada uno dependera de la posicion:"
   ]
  },
  {
   "cell_type": "code",
   "execution_count": 7,
   "metadata": {},
   "outputs": [
    {
     "name": "stdout",
     "output_type": "stream",
     "text": [
      "1 2 3\n"
     ]
    }
   ],
   "source": [
    "def my_function(a, b, c):\n",
    "    print(a, b, c)\n",
    "\n",
    "my_function(1, 2, 3)"
   ]
  },
  {
   "cell_type": "markdown",
   "metadata": {},
   "source": [
    "En éste caso ``a`` siepre va a tomar el valor de la primera posicion, ``b`` el de la segunda y ``c`` el de la tercera, y esta es una de las razones de por qué no se utilizan muchos parámetros cuando definimos funciones.\n",
    "\n",
    "Sin embargo Python ofrece otra manera de pasar argumentos, donde el valor del mismo está definido por su nombre y no por su posicion, a esto se lo denomna **paso de argumentos con palabra clave**"
   ]
  },
  {
   "cell_type": "code",
   "execution_count": 8,
   "metadata": {},
   "outputs": [
    {
     "name": "stdout",
     "output_type": "stream",
     "text": [
      "Hola, mi nombre es James Bond\n",
      "Hola, mi nombre es Luke Skywalker\n"
     ]
    }
   ],
   "source": [
    "def introduction(first_name, last_name):\n",
    "    print(\"Hola, mi nombre es\", first_name, last_name)\n",
    "\n",
    "introduction(first_name = \"James\", last_name = \"Bond\")\n",
    "introduction(last_name = \"Skywalker\", first_name = \"Luke\")"
   ]
  },
  {
   "cell_type": "markdown",
   "metadata": {},
   "source": [
    "Vemos que en la segunda invocacion no se sigue el orden de los parámetros tal y cual estan definidos en la funcion, pero al utilizar el operador ``=`` la posicion no es relevante y cada argumento conoce su destino con base en el nombre utilizado.\n",
    "\n",
    "Es posible combinar ambos tipos si se desea - solo hay una regla inquebrantable: se deben colocar primero los argumentos posicionales y después los de palabra clave."
   ]
  },
  {
   "cell_type": "code",
   "execution_count": 9,
   "metadata": {},
   "outputs": [
    {
     "name": "stdout",
     "output_type": "stream",
     "text": [
      "1 + 2 + 3 = 6\n",
      "2 + 3 + 1 = 6\n",
      "3 + 2 + 1 = 6\n"
     ]
    }
   ],
   "source": [
    "def adding(a, b, c):\n",
    "    print(a, \"+\", b, \"+\", c, \"=\", a + b + c)\n",
    "\n",
    "adding(1, 2, 3)\n",
    "adding(c = 1, a = 2, b = 3)\n",
    "adding(3, c = 1, b = 2)"
   ]
  },
  {
   "cell_type": "markdown",
   "metadata": {},
   "source": [
    "Aca podemos ver los tres casos, en la primera se definen los parámetros como posicionales, en la segunda con palabra clave, y en la tercera invocacion, el parámetro ``a`` se lo define como posicional mientras que ``b`` y ``c`` con palabra clave sin necesidad de coincidir la posicion. Cuando utilizamos metodos combinados debemos tener cuidado con no definir el mismo parámetro dos veces.\n",
    "\n",
    "Cuando definimos una funcion podemos entregarle un valor predeterminado a un parámetro, que en el caso de ser invocada y no definir el parámetro, éste tomara el valor predeterminado:"
   ]
  },
  {
   "cell_type": "code",
   "execution_count": null,
   "metadata": {},
   "outputs": [
    {
     "name": "stdout",
     "output_type": "stream",
     "text": [
      "Hola, mi nombre es Jorge Pérez\n",
      "Hola, mi nombre es Enrique Smith\n"
     ]
    }
   ],
   "source": [
    "def introduction(first_name, last_name=\"Gomez\"):\n",
    "     print(\"Hola, mi nombre es\", first_name, last_name)\n",
    "\n",
    "introduction(\"Jorge\", \"Pérez\")\n",
    "introduction(\"Enrique\")"
   ]
  },
  {
   "cell_type": "markdown",
   "metadata": {},
   "source": [
    "En esta funcion, el parámetro ``last_name`` es predefinido con el valor ``\"Gomez\"`` ya que es un apellido muy comun, la funcion entonces en el caso de no definir éste parámetro en la invocacion, como es el caso de ``Enrique``, le asigna de manera predeterminada el valor ``Gomez``. Así, aunque invoquemos la funcion con un solo parámetro no habra errores.\n",
    "\n",
    "Esto se puede hacer con cuantos parámetros sea necesario, no hay un limite para predefinir parámetros."
   ]
  },
  {
   "cell_type": "markdown",
   "metadata": {},
   "source": [
    "**INSTRUCCION *RETURN*** Para lograr que una funcion devuelva un valor, y entre otras cosas, se utiliza la **instruccion** ``return``, que tambien es una palabra clave reservada de python.\n",
    "``Return`` tiene dos variables diferentes:\n",
    "\n",
    "**Sin una expresion** cuando una funcion contiene la instruccion ``return`` sin ninguna expresion ésta simplemente termina la ejecucion de la funcion en ese punto y no devuelve ningun resultado que este escrito despues de éste (algo parecido con la instruccion ``break`` de los bucles)"
   ]
  },
  {
   "cell_type": "code",
   "execution_count": 13,
   "metadata": {},
   "outputs": [
    {
     "name": "stdout",
     "output_type": "stream",
     "text": [
      "Tres...\n",
      "Dos...\n",
      "Uno...\n",
      "¡Feliz año nuevo!\n",
      "Tres...\n",
      "Dos...\n",
      "Uno...\n"
     ]
    }
   ],
   "source": [
    "def happy_new_year(wishes=True):\n",
    "    print(\"Tres...\")\n",
    "    print(\"Dos...\")\n",
    "    print(\"Uno...\")\n",
    "    \n",
    "    # Si wishes es False, la función termina aquí.\n",
    "    if not wishes:\n",
    "        return\n",
    "    \n",
    "    # Esta línea solo se ejecuta si wishes es True.\n",
    "    print(\"¡Feliz año nuevo!\")\n",
    "\n",
    "happy_new_year()\n",
    "happy_new_year(False)"
   ]
  },
  {
   "cell_type": "markdown",
   "metadata": {},
   "source": [
    "En la primera invocacion no se especifica el valor del parámetro, pero como tiene de manera predetermianda el valor ``True`` no es necesario, ``wishes`` al ser verdadero no cumple con la condicion del bucle ``if`` dentro de la funcion y por lo tanto no entra al mismo ejecutando directamente la ultima linea de la funcion donde se deasea feliz año nuevo.\n",
    "\n",
    "En la segunda invocacion sí aclara que ``wishes`` sea ``False``, y como se cumple la condicion del bucle se ejecuta la instruccion ``return`` finalizando la ejecucion del la funcion y por lo tanto no se ejecuta la última linea.\n",
    "\n",
    "**Con una expresion** Cuando escribimos una expresion luego de la instruccion ``return`` la funcion evalua el valor de ésta y lo devuelve como **resultado**.\n",
    "Este resultado puede ser asignado a una variable:"
   ]
  },
  {
   "cell_type": "code",
   "execution_count": 14,
   "metadata": {},
   "outputs": [
    {
     "name": "stdout",
     "output_type": "stream",
     "text": [
      "La función boring_function ha devuelto su resultado. Es: 123\n"
     ]
    }
   ],
   "source": [
    "def boring_function():\n",
    "    return 123\n",
    "\n",
    "x = boring_function()\n",
    "print(\"La función boring_function ha devuelto su resultado. Es:\", x)"
   ]
  },
  {
   "cell_type": "markdown",
   "metadata": {},
   "source": [
    "En este caso es como si ``return`` transportara el valor de la expresion al lugar donde se invoca la funcion.\n",
    "\n",
    "**LISTAS Y FUNCIONES** Las listas pueden ser utilizadas como argumento en una funcion y para ello no puede faltar un bucle ``for``, recordemos que son los favoritos de las listas.\n",
    "\n",
    "Dentro de la funcion abrimos el bucle ``for`` pidiendole que itere sobre el argumento o parámetro de la funcion (``lst``), en el cuerpo del bucle se le da la instruccion de tomar la variable ``s`` y sumarle el valor de aca elemento sobre el cual itere. El bucle finaliza con la instruccion ``return`` para devolcer el resultado final que es el valor que toma s al finalizar el bucle.\n",
    "La funcion se puede invocar creando una lista en el mismo argumento o utilizando una lista ya creada."
   ]
  },
  {
   "cell_type": "code",
   "execution_count": 16,
   "metadata": {},
   "outputs": [
    {
     "name": "stdout",
     "output_type": "stream",
     "text": [
      "12\n",
      "21\n"
     ]
    }
   ],
   "source": [
    "def list_sum(lst):\n",
    "    s = 0\n",
    "\n",
    "    for elem in lst:\n",
    "        s += elem\n",
    "\n",
    "    return s\n",
    "\n",
    "print(list_sum([5, 4, 3]))\n",
    "\n",
    "lista = [6, 7, 8]\n",
    "print(list_sum(lista))"
   ]
  },
  {
   "cell_type": "markdown",
   "metadata": {},
   "source": [
    "Podemos definir una funcion que cree una lista, nuevamente usando el bucle ``for`` aplicando el método ``.append()`` o ``.insert()``, lo interesante aqui es que podemos usar como argumento de la funcion el valor del rango que queremos darle a la lista, veamos con un ejemplo:"
   ]
  },
  {
   "cell_type": "code",
   "execution_count": 17,
   "metadata": {},
   "outputs": [
    {
     "name": "stdout",
     "output_type": "stream",
     "text": [
      "[4, 3, 2, 1, 0]\n"
     ]
    }
   ],
   "source": [
    "def strange_list_fun(n):\n",
    "    strange_list = []\n",
    "    \n",
    "    for i in range(0, n):\n",
    "        strange_list.insert(0, i)\n",
    "    \n",
    "    return strange_list\n",
    "\n",
    "print(strange_list_fun(5))"
   ]
  },
  {
   "cell_type": "markdown",
   "metadata": {},
   "source": [
    "En una funcion el **alcance de un nombre** es la parte del código donde el nombre de una variable o parámetro es reconocido correctamente, es decir si creamos una variable, lista o lo que sea dentro de una funcion, ese mismo parámetro es inaccesible fuera de la funcion, no importa que hayamos invocado a la funcion correctamente, la variable que creemos dentro *\"no existe\"* por fuera de la funcion: "
   ]
  },
  {
   "cell_type": "code",
   "execution_count": 22,
   "metadata": {},
   "outputs": [
    {
     "ename": "NameError",
     "evalue": "name 'l' is not defined",
     "output_type": "error",
     "traceback": [
      "\u001b[1;31m---------------------------------------------------------------------------\u001b[0m",
      "\u001b[1;31mNameError\u001b[0m                                 Traceback (most recent call last)",
      "Cell \u001b[1;32mIn[22], line 5\u001b[0m\n\u001b[0;32m      2\u001b[0m     l \u001b[38;5;241m=\u001b[39m \u001b[38;5;241m123\u001b[39m\n\u001b[0;32m      4\u001b[0m scope_test()\n\u001b[1;32m----> 5\u001b[0m \u001b[38;5;28mprint\u001b[39m(\u001b[43ml\u001b[49m)\n",
      "\u001b[1;31mNameError\u001b[0m: name 'l' is not defined"
     ]
    }
   ],
   "source": [
    "def scope_test():\n",
    "    l = 123\n",
    "\n",
    "scope_test()\n",
    "print(l)"
   ]
  },
  {
   "cell_type": "markdown",
   "metadata": {},
   "source": [
    "Sin embargo, una variable que existe por fuera de la funcion si tiene acceso a una funcion:"
   ]
  },
  {
   "cell_type": "code",
   "execution_count": 23,
   "metadata": {},
   "outputs": [
    {
     "name": "stdout",
     "output_type": "stream",
     "text": [
      "¿Conozco a la variable? 1\n",
      "1\n"
     ]
    }
   ],
   "source": [
    "def my_function():\n",
    "    print(\"¿Conozco a la variable?\", var)\n",
    "\n",
    "var = 1\n",
    "my_function()\n",
    "print(var)"
   ]
  },
  {
   "cell_type": "markdown",
   "metadata": {},
   "source": [
    "Vemos que incluso una variable que se crea luego de definir la funcion puede ser reconocida y utilizada cuando invoquemos a la funcion. Algo importante a tener en cuenta es que cualquier variable que se cree dentro de la funcion solo existe allí, y por lo tanto se pueden crear variables con el mismo nombre fuera de la funcion sin alterar el funcionamiento de ésta, así por ejemplo:"
   ]
  },
  {
   "cell_type": "code",
   "execution_count": 24,
   "metadata": {},
   "outputs": [
    {
     "name": "stdout",
     "output_type": "stream",
     "text": [
      "¿Conozco a la variable? 2\n",
      "1\n"
     ]
    }
   ],
   "source": [
    "def my_function():\n",
    "    var = 2\n",
    "    print(\"¿Conozco a la variable?\", var)\n",
    "\n",
    "\n",
    "var = 1\n",
    "my_function()\n",
    "print(var)"
   ]
  },
  {
   "cell_type": "markdown",
   "metadata": {},
   "source": [
    "Dentro de la funcion ``var`` toma el valor **2**, pero fuera el valor **1**, de manera que cuando llame a la variable por fuera de la funcion ésta mostrara el valor que se le dio, pero cuando invoque a la funcion toma el valor que se le dio dentro de la funcion, es decir van a ser dos variables distintas almacenadas en distintos lugares de la memoria:\n",
    "\n",
    "**Una variable que existe fuera de una función tiene un alcance dentro del cuerpo de la función, excluyendo a aquellas que tienen el mismo nombre.**\n",
    "\n",
    "Es decir que no podríamos hacer uso de la variable ``var`` dentro de la funcion porque esta ya existe alli.\n",
    "\n",
    "Tampoco es posible modificar, desde una funcion, el valor de una variable que existe por fuera de ella, en el codigo de arriba ``var`` por fuera de la funcion siempre va a ocupar el valor 1 a menos que se lo cambie por fuera de la funcion, y esto en realidad es bastante conveniente ya que sería sumamente incómodo que las funciones puedan  modificar variables, sin embargo Python ofrece un **método para extender el alcance de una variable incluyendo el cuerpo de las funciones**. Éste método utiliza la palabra clave reservada ``global`` seguido del nombre de las variables a las cuales se les quiere dar un alcance global, es como si le dijiese de antemano a la funcion que ella tiene prioridad con tal y tal variable, de ésta forma la variable tomara el valor final que le demos en la funcion:"
   ]
  },
  {
   "cell_type": "code",
   "execution_count": 25,
   "metadata": {},
   "outputs": [
    {
     "name": "stdout",
     "output_type": "stream",
     "text": [
      "1\n",
      "¿Conozco a aquella variable? 2\n",
      "2\n"
     ]
    }
   ],
   "source": [
    "def my_function():\n",
    "    global var\n",
    "    var = 2\n",
    "    print(\"¿Conozco a aquella variable?\", var)\n",
    "\n",
    "var = 1\n",
    "print(var)\n",
    "my_function()\n",
    "print(var)"
   ]
  },
  {
   "cell_type": "markdown",
   "metadata": {},
   "source": [
    "Algo importante que remarcar es que ``var`` solo va a tomar el valor que la funcion le asigne una vez que la invoquemos, note que antes de invocar la funcion la variable toma el valor asignado por fuera de ésta!\n",
    "\n",
    "Ahora bien, **puede una funcion modificar el valor de una variable usada como argumento?** veamos un ejemplo:"
   ]
  },
  {
   "cell_type": "code",
   "execution_count": 30,
   "metadata": {},
   "outputs": [
    {
     "name": "stdout",
     "output_type": "stream",
     "text": [
      "Yo recibí 1\n",
      "Me dieron 1\n",
      "Ahora tengo 2\n",
      "1\n"
     ]
    }
   ],
   "source": [
    "def my_function(n):\n",
    "    print(\"Yo recibí\", n)\n",
    "    print(\"Me dieron\", var)\n",
    "    n += 1\n",
    "    print(\"Ahora tengo\", n)\n",
    "\n",
    "\n",
    "var = 1\n",
    "my_function(var)\n",
    "print(var)"
   ]
  },
  {
   "cell_type": "markdown",
   "metadata": {},
   "source": [
    "La funcion parametrizada (n), toma el argumento y le suma 1, al invocar la funcion ésta va a tomar el **valor** de la variable que se utilice como argumento y le sumará 1, pero NO MODIFICA EL VALOR EN SÍ, lo podemos comprobar el la última linea donde se imprime el valor de la variable ``var`` y aun mantiene el que se le asigno por fuera de la funcion.\n",
    "\n",
    "Con listas pasa algo similar, la funcion solo toma la lista original como una referencia, por lo que al asignar nuevos valores dentro de la funion, no va  acambiar la lista original, sin embargo si se modifica la lista usando operaciones como ``del, append,`` etc., la lista original **sí se verá afectada**, porque la referencia sigue apuntando a la misma lista"
   ]
  },
  {
   "cell_type": "code",
   "execution_count": 32,
   "metadata": {},
   "outputs": [
    {
     "name": "stdout",
     "output_type": "stream",
     "text": [
      "Print #1: [2, 3]\n",
      "Print #2: [0, 1]\n",
      "Print #3: [2, 3]\n"
     ]
    }
   ],
   "source": [
    "def my_function(my_list_1):\n",
    "    print(\"Print #1:\", my_list_1)  # La lista original\n",
    "    my_list_1 = [0, 1]  # Reasignación: ahora my_list_1 apunta a otra lista\n",
    "    print(\"Print #2:\", my_list_1)  # Muestra la nueva lista\n",
    "\n",
    "my_list_2 = [2, 3]\n",
    "my_function(my_list_2)\n",
    "print(\"Print #3:\", my_list_2)  # La lista original no cambió\n"
   ]
  },
  {
   "cell_type": "code",
   "execution_count": 33,
   "metadata": {},
   "outputs": [
    {
     "name": "stdout",
     "output_type": "stream",
     "text": [
      "Print #1: [2, 3]\n",
      "Print #2: [3]\n",
      "Print #3: [3]\n"
     ]
    }
   ],
   "source": [
    "def my_function(my_list_1):\n",
    "    print(\"Print #1:\", my_list_1)  # La lista original\n",
    "    del my_list_1[0]  # Eliminamos el primer elemento de la lista original\n",
    "    print(\"Print #2:\", my_list_1)  # La lista modificada\n",
    "\n",
    "my_list_2 = [2, 3]\n",
    "my_function(my_list_2)\n",
    "print(\"Print #3:\", my_list_2)  # La lista original se modificó"
   ]
  },
  {
   "cell_type": "markdown",
   "metadata": {},
   "source": [
    "## **TIPO DE SECUENCIAS Y MUTABILIDAD**\n",
    "\n",
    "Vimos que las listas son elementos mutables (se pueden modificar) y almacenas una **secuencia de valores**, existen otros elementos que pueden almacenar secuencias como las **TUPLAS** y **DICCIONARIOS**, ambos tienen caracteristicas muy distintas a las listas por lo que veremos cada uno en detalle:\n",
    "\n",
    "**TUPLAS**"
   ]
  }
 ],
 "metadata": {
  "kernelspec": {
   "display_name": "Python 3",
   "language": "python",
   "name": "python3"
  },
  "language_info": {
   "codemirror_mode": {
    "name": "ipython",
    "version": 3
   },
   "file_extension": ".py",
   "mimetype": "text/x-python",
   "name": "python",
   "nbconvert_exporter": "python",
   "pygments_lexer": "ipython3",
   "version": "3.12.5"
  }
 },
 "nbformat": 4,
 "nbformat_minor": 2
}
